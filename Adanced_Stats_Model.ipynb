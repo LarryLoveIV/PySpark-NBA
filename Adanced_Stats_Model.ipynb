{
 "cells": [
  {
   "cell_type": "code",
   "execution_count": 1,
   "metadata": {},
   "outputs": [],
   "source": [
    "import pyspark\n",
    "from pyspark.sql import SparkSession\n",
    "from pyspark.sql import functions as f\n",
    "import pandas as pd\n",
    "import numpy as np\n",
    "import matplotlib.pyplot as plt\n",
    "import seaborn as sns\n",
    "import time\n",
    "from itertools import chain"
   ]
  },
  {
   "cell_type": "code",
   "execution_count": 2,
   "metadata": {},
   "outputs": [],
   "source": [
    "from nba_api.stats.endpoints import leaguegamefinder\n",
    "from nba_api.stats.endpoints import teamdashboardbylastngames\n",
    "from nba_api.stats.endpoints import leaguedashteamstats\n",
    "from nba_api.stats.endpoints import boxscoreadvancedv2\n",
    "from nba_api.stats.static import teams"
   ]
  },
  {
   "cell_type": "markdown",
   "metadata": {},
   "source": [
    "### Get a dataframe that contains team ids, abbervations, and nicknames for later use."
   ]
  },
  {
   "cell_type": "code",
   "execution_count": 3,
   "metadata": {},
   "outputs": [],
   "source": [
    "team_df = pd.DataFrame(teams.get_teams())"
   ]
  },
  {
   "cell_type": "code",
   "execution_count": 4,
   "metadata": {},
   "outputs": [],
   "source": [
    "team_df = team_df[['id', 'abbreviation', 'nickname']]"
   ]
  },
  {
   "cell_type": "markdown",
   "metadata": {},
   "source": [
    "### Get a dataframe of last 5 games advanced stats"
   ]
  },
  {
   "cell_type": "code",
   "execution_count": 5,
   "metadata": {},
   "outputs": [],
   "source": [
    "team_adv = leaguedashteamstats.LeagueDashTeamStats(last_n_games=5, measure_type_detailed_defense='Advanced').get_data_frames()"
   ]
  },
  {
   "cell_type": "code",
   "execution_count": 6,
   "metadata": {},
   "outputs": [
    {
     "data": {
      "text/html": [
       "<div>\n",
       "<style scoped>\n",
       "    .dataframe tbody tr th:only-of-type {\n",
       "        vertical-align: middle;\n",
       "    }\n",
       "\n",
       "    .dataframe tbody tr th {\n",
       "        vertical-align: top;\n",
       "    }\n",
       "\n",
       "    .dataframe thead th {\n",
       "        text-align: right;\n",
       "    }\n",
       "</style>\n",
       "<table border=\"1\" class=\"dataframe\">\n",
       "  <thead>\n",
       "    <tr style=\"text-align: right;\">\n",
       "      <th></th>\n",
       "      <th>TEAM_ID</th>\n",
       "      <th>TEAM_NAME</th>\n",
       "      <th>GP</th>\n",
       "      <th>W</th>\n",
       "      <th>L</th>\n",
       "      <th>W_PCT</th>\n",
       "      <th>MIN</th>\n",
       "      <th>E_OFF_RATING</th>\n",
       "      <th>OFF_RATING</th>\n",
       "      <th>E_DEF_RATING</th>\n",
       "      <th>...</th>\n",
       "      <th>OREB_PCT_RANK</th>\n",
       "      <th>DREB_PCT_RANK</th>\n",
       "      <th>REB_PCT_RANK</th>\n",
       "      <th>TM_TOV_PCT_RANK</th>\n",
       "      <th>EFG_PCT_RANK</th>\n",
       "      <th>TS_PCT_RANK</th>\n",
       "      <th>PACE_RANK</th>\n",
       "      <th>PIE_RANK</th>\n",
       "      <th>CFID</th>\n",
       "      <th>CFPARAMS</th>\n",
       "    </tr>\n",
       "  </thead>\n",
       "  <tbody>\n",
       "    <tr>\n",
       "      <th>0</th>\n",
       "      <td>1610612737</td>\n",
       "      <td>Atlanta Hawks</td>\n",
       "      <td>5</td>\n",
       "      <td>4</td>\n",
       "      <td>1</td>\n",
       "      <td>0.8</td>\n",
       "      <td>240.0</td>\n",
       "      <td>122.2</td>\n",
       "      <td>122.7</td>\n",
       "      <td>111.6</td>\n",
       "      <td>...</td>\n",
       "      <td>14</td>\n",
       "      <td>5</td>\n",
       "      <td>4</td>\n",
       "      <td>5</td>\n",
       "      <td>6</td>\n",
       "      <td>8</td>\n",
       "      <td>8</td>\n",
       "      <td>7</td>\n",
       "      <td>10</td>\n",
       "      <td>Atlanta Hawks</td>\n",
       "    </tr>\n",
       "    <tr>\n",
       "      <th>1</th>\n",
       "      <td>1610612738</td>\n",
       "      <td>Boston Celtics</td>\n",
       "      <td>5</td>\n",
       "      <td>1</td>\n",
       "      <td>4</td>\n",
       "      <td>0.2</td>\n",
       "      <td>240.0</td>\n",
       "      <td>112.0</td>\n",
       "      <td>113.3</td>\n",
       "      <td>114.1</td>\n",
       "      <td>...</td>\n",
       "      <td>24</td>\n",
       "      <td>10</td>\n",
       "      <td>22</td>\n",
       "      <td>7</td>\n",
       "      <td>14</td>\n",
       "      <td>18</td>\n",
       "      <td>10</td>\n",
       "      <td>21</td>\n",
       "      <td>10</td>\n",
       "      <td>Boston Celtics</td>\n",
       "    </tr>\n",
       "    <tr>\n",
       "      <th>2</th>\n",
       "      <td>1610612751</td>\n",
       "      <td>Brooklyn Nets</td>\n",
       "      <td>5</td>\n",
       "      <td>3</td>\n",
       "      <td>2</td>\n",
       "      <td>0.6</td>\n",
       "      <td>240.0</td>\n",
       "      <td>119.9</td>\n",
       "      <td>118.5</td>\n",
       "      <td>111.7</td>\n",
       "      <td>...</td>\n",
       "      <td>29</td>\n",
       "      <td>29</td>\n",
       "      <td>25</td>\n",
       "      <td>14</td>\n",
       "      <td>2</td>\n",
       "      <td>3</td>\n",
       "      <td>13</td>\n",
       "      <td>6</td>\n",
       "      <td>10</td>\n",
       "      <td>Brooklyn Nets</td>\n",
       "    </tr>\n",
       "  </tbody>\n",
       "</table>\n",
       "<p>3 rows × 48 columns</p>\n",
       "</div>"
      ],
      "text/plain": [
       "      TEAM_ID       TEAM_NAME  GP  W  L  W_PCT    MIN  E_OFF_RATING  \\\n",
       "0  1610612737   Atlanta Hawks   5  4  1    0.8  240.0         122.2   \n",
       "1  1610612738  Boston Celtics   5  1  4    0.2  240.0         112.0   \n",
       "2  1610612751   Brooklyn Nets   5  3  2    0.6  240.0         119.9   \n",
       "\n",
       "   OFF_RATING  E_DEF_RATING  ...  OREB_PCT_RANK  DREB_PCT_RANK  REB_PCT_RANK  \\\n",
       "0       122.7         111.6  ...             14              5             4   \n",
       "1       113.3         114.1  ...             24             10            22   \n",
       "2       118.5         111.7  ...             29             29            25   \n",
       "\n",
       "   TM_TOV_PCT_RANK  EFG_PCT_RANK  TS_PCT_RANK  PACE_RANK  PIE_RANK  CFID  \\\n",
       "0                5             6            8          8         7    10   \n",
       "1                7            14           18         10        21    10   \n",
       "2               14             2            3         13         6    10   \n",
       "\n",
       "         CFPARAMS  \n",
       "0   Atlanta Hawks  \n",
       "1  Boston Celtics  \n",
       "2   Brooklyn Nets  \n",
       "\n",
       "[3 rows x 48 columns]"
      ]
     },
     "execution_count": 6,
     "metadata": {},
     "output_type": "execute_result"
    }
   ],
   "source": [
    "team_adv[0].head(3)"
   ]
  },
  {
   "cell_type": "markdown",
   "metadata": {},
   "source": [
    "### Pull all games so we can store the game ids & build rows of matchups"
   ]
  },
  {
   "cell_type": "code",
   "execution_count": 7,
   "metadata": {},
   "outputs": [],
   "source": [
    "all_games = leaguegamefinder.LeagueGameFinder(season_nullable='2020-21', league_id_nullable='00', season_type_nullable='Regular Season').get_data_frames()[0]"
   ]
  },
  {
   "cell_type": "code",
   "execution_count": 8,
   "metadata": {},
   "outputs": [],
   "source": [
    "all_game_ids = set(all_games['GAME_ID'])"
   ]
  },
  {
   "cell_type": "markdown",
   "metadata": {},
   "source": [
    "### Use games ids to create a dataframe of advanced metrics for every game"
   ]
  },
  {
   "cell_type": "code",
   "execution_count": 9,
   "metadata": {},
   "outputs": [],
   "source": [
    "season_advanced=[]\n",
    "for i in all_game_ids:\n",
    "    season_advanced.append(boxscoreadvancedv2.BoxScoreAdvancedV2(game_id=i).get_normalized_dict()['TeamStats'])\n",
    "    time.sleep(.6)"
   ]
  },
  {
   "cell_type": "code",
   "execution_count": 10,
   "metadata": {},
   "outputs": [],
   "source": [
    "szn_adv_df = pd.DataFrame(list(chain.from_iterable(season_advanced)))"
   ]
  },
  {
   "cell_type": "code",
   "execution_count": 11,
   "metadata": {},
   "outputs": [
    {
     "data": {
      "text/plain": [
       "True"
      ]
     },
     "execution_count": 11,
     "metadata": {},
     "output_type": "execute_result"
    }
   ],
   "source": [
    "len(all_games) == len(szn_adv_df)"
   ]
  },
  {
   "cell_type": "markdown",
   "metadata": {},
   "source": [
    "### Implement Spark"
   ]
  },
  {
   "cell_type": "code",
   "execution_count": 12,
   "metadata": {},
   "outputs": [],
   "source": [
    "spark = SparkSession.builder.appName('NBA_Advanced_Stats_Model').getOrCreate()"
   ]
  },
  {
   "cell_type": "code",
   "execution_count": 13,
   "metadata": {},
   "outputs": [],
   "source": [
    "team_spark = spark.createDataFrame(team_df)\n",
    "team_adv_spark = spark.createDataFrame(team_adv[0])\n",
    "all_games_spark = spark.createDataFrame(all_games)\n",
    "szn_adv_spark = spark.createDataFrame(szn_adv_df)"
   ]
  },
  {
   "cell_type": "code",
   "execution_count": 14,
   "metadata": {},
   "outputs": [
    {
     "data": {
      "text/html": [
       "<div>\n",
       "<style scoped>\n",
       "    .dataframe tbody tr th:only-of-type {\n",
       "        vertical-align: middle;\n",
       "    }\n",
       "\n",
       "    .dataframe tbody tr th {\n",
       "        vertical-align: top;\n",
       "    }\n",
       "\n",
       "    .dataframe thead th {\n",
       "        text-align: right;\n",
       "    }\n",
       "</style>\n",
       "<table border=\"1\" class=\"dataframe\">\n",
       "  <thead>\n",
       "    <tr style=\"text-align: right;\">\n",
       "      <th></th>\n",
       "      <th>SEASON_ID</th>\n",
       "      <th>TEAM_ID</th>\n",
       "      <th>TEAM_ABBREVIATION</th>\n",
       "      <th>TEAM_NAME</th>\n",
       "      <th>GAME_ID</th>\n",
       "      <th>GAME_DATE</th>\n",
       "      <th>MATCHUP</th>\n",
       "      <th>WL</th>\n",
       "      <th>MIN</th>\n",
       "      <th>PTS</th>\n",
       "      <th>...</th>\n",
       "      <th>FT_PCT</th>\n",
       "      <th>OREB</th>\n",
       "      <th>DREB</th>\n",
       "      <th>REB</th>\n",
       "      <th>AST</th>\n",
       "      <th>STL</th>\n",
       "      <th>BLK</th>\n",
       "      <th>TOV</th>\n",
       "      <th>PF</th>\n",
       "      <th>PLUS_MINUS</th>\n",
       "    </tr>\n",
       "  </thead>\n",
       "  <tbody>\n",
       "    <tr>\n",
       "      <th>14</th>\n",
       "      <td>22020</td>\n",
       "      <td>1610612740</td>\n",
       "      <td>NOP</td>\n",
       "      <td>New Orleans Pelicans</td>\n",
       "      <td>0022001059</td>\n",
       "      <td>2021-05-14</td>\n",
       "      <td>NOP @ GSW</td>\n",
       "      <td>L</td>\n",
       "      <td>241</td>\n",
       "      <td>122</td>\n",
       "      <td>...</td>\n",
       "      <td>0.679</td>\n",
       "      <td>12</td>\n",
       "      <td>39</td>\n",
       "      <td>51</td>\n",
       "      <td>21</td>\n",
       "      <td>6</td>\n",
       "      <td>3</td>\n",
       "      <td>9</td>\n",
       "      <td>23</td>\n",
       "      <td>-3.0</td>\n",
       "    </tr>\n",
       "    <tr>\n",
       "      <th>4</th>\n",
       "      <td>22020</td>\n",
       "      <td>1610612744</td>\n",
       "      <td>GSW</td>\n",
       "      <td>Golden State Warriors</td>\n",
       "      <td>0022001059</td>\n",
       "      <td>2021-05-14</td>\n",
       "      <td>GSW vs. NOP</td>\n",
       "      <td>W</td>\n",
       "      <td>240</td>\n",
       "      <td>125</td>\n",
       "      <td>...</td>\n",
       "      <td>0.800</td>\n",
       "      <td>8</td>\n",
       "      <td>38</td>\n",
       "      <td>46</td>\n",
       "      <td>29</td>\n",
       "      <td>4</td>\n",
       "      <td>4</td>\n",
       "      <td>11</td>\n",
       "      <td>21</td>\n",
       "      <td>3.0</td>\n",
       "    </tr>\n",
       "    <tr>\n",
       "      <th>12</th>\n",
       "      <td>22020</td>\n",
       "      <td>1610612746</td>\n",
       "      <td>LAC</td>\n",
       "      <td>LA Clippers</td>\n",
       "      <td>0022001058</td>\n",
       "      <td>2021-05-14</td>\n",
       "      <td>LAC @ HOU</td>\n",
       "      <td>L</td>\n",
       "      <td>240</td>\n",
       "      <td>115</td>\n",
       "      <td>...</td>\n",
       "      <td>0.933</td>\n",
       "      <td>7</td>\n",
       "      <td>28</td>\n",
       "      <td>35</td>\n",
       "      <td>29</td>\n",
       "      <td>9</td>\n",
       "      <td>5</td>\n",
       "      <td>13</td>\n",
       "      <td>15</td>\n",
       "      <td>-7.0</td>\n",
       "    </tr>\n",
       "    <tr>\n",
       "      <th>0</th>\n",
       "      <td>22020</td>\n",
       "      <td>1610612745</td>\n",
       "      <td>HOU</td>\n",
       "      <td>Houston Rockets</td>\n",
       "      <td>0022001058</td>\n",
       "      <td>2021-05-14</td>\n",
       "      <td>HOU vs. LAC</td>\n",
       "      <td>W</td>\n",
       "      <td>239</td>\n",
       "      <td>122</td>\n",
       "      <td>...</td>\n",
       "      <td>0.727</td>\n",
       "      <td>8</td>\n",
       "      <td>33</td>\n",
       "      <td>41</td>\n",
       "      <td>30</td>\n",
       "      <td>4</td>\n",
       "      <td>4</td>\n",
       "      <td>15</td>\n",
       "      <td>20</td>\n",
       "      <td>7.0</td>\n",
       "    </tr>\n",
       "  </tbody>\n",
       "</table>\n",
       "<p>4 rows × 28 columns</p>\n",
       "</div>"
      ],
      "text/plain": [
       "   SEASON_ID     TEAM_ID TEAM_ABBREVIATION              TEAM_NAME     GAME_ID  \\\n",
       "14     22020  1610612740               NOP   New Orleans Pelicans  0022001059   \n",
       "4      22020  1610612744               GSW  Golden State Warriors  0022001059   \n",
       "12     22020  1610612746               LAC            LA Clippers  0022001058   \n",
       "0      22020  1610612745               HOU        Houston Rockets  0022001058   \n",
       "\n",
       "     GAME_DATE      MATCHUP WL  MIN  PTS  ...  FT_PCT  OREB  DREB  REB  AST  \\\n",
       "14  2021-05-14    NOP @ GSW  L  241  122  ...   0.679    12    39   51   21   \n",
       "4   2021-05-14  GSW vs. NOP  W  240  125  ...   0.800     8    38   46   29   \n",
       "12  2021-05-14    LAC @ HOU  L  240  115  ...   0.933     7    28   35   29   \n",
       "0   2021-05-14  HOU vs. LAC  W  239  122  ...   0.727     8    33   41   30   \n",
       "\n",
       "    STL  BLK  TOV  PF  PLUS_MINUS  \n",
       "14    6    3    9  23        -3.0  \n",
       "4     4    4   11  21         3.0  \n",
       "12    9    5   13  15        -7.0  \n",
       "0     4    4   15  20         7.0  \n",
       "\n",
       "[4 rows x 28 columns]"
      ]
     },
     "execution_count": 14,
     "metadata": {},
     "output_type": "execute_result"
    }
   ],
   "source": [
    "all_games_spark.toPandas().sort_values('GAME_ID', ascending=False).head(4)"
   ]
  },
  {
   "cell_type": "code",
   "execution_count": 15,
   "metadata": {},
   "outputs": [
    {
     "data": {
      "text/html": [
       "<div>\n",
       "<style scoped>\n",
       "    .dataframe tbody tr th:only-of-type {\n",
       "        vertical-align: middle;\n",
       "    }\n",
       "\n",
       "    .dataframe tbody tr th {\n",
       "        vertical-align: top;\n",
       "    }\n",
       "\n",
       "    .dataframe thead th {\n",
       "        text-align: right;\n",
       "    }\n",
       "</style>\n",
       "<table border=\"1\" class=\"dataframe\">\n",
       "  <thead>\n",
       "    <tr style=\"text-align: right;\">\n",
       "      <th></th>\n",
       "      <th>GAME_ID</th>\n",
       "      <th>TEAM_ID</th>\n",
       "      <th>TEAM_NAME</th>\n",
       "      <th>TEAM_ABBREVIATION</th>\n",
       "      <th>TEAM_CITY</th>\n",
       "      <th>MIN</th>\n",
       "      <th>E_OFF_RATING</th>\n",
       "      <th>OFF_RATING</th>\n",
       "      <th>E_DEF_RATING</th>\n",
       "      <th>DEF_RATING</th>\n",
       "      <th>...</th>\n",
       "      <th>TM_TOV_PCT</th>\n",
       "      <th>EFG_PCT</th>\n",
       "      <th>TS_PCT</th>\n",
       "      <th>USG_PCT</th>\n",
       "      <th>E_USG_PCT</th>\n",
       "      <th>E_PACE</th>\n",
       "      <th>PACE</th>\n",
       "      <th>PACE_PER40</th>\n",
       "      <th>POSS</th>\n",
       "      <th>PIE</th>\n",
       "    </tr>\n",
       "  </thead>\n",
       "  <tbody>\n",
       "    <tr>\n",
       "      <th>1305</th>\n",
       "      <td>0022001059</td>\n",
       "      <td>1610612744</td>\n",
       "      <td>Warriors</td>\n",
       "      <td>GSW</td>\n",
       "      <td>Golden State</td>\n",
       "      <td>240:00</td>\n",
       "      <td>120.0</td>\n",
       "      <td>120.2</td>\n",
       "      <td>112.6</td>\n",
       "      <td>116.2</td>\n",
       "      <td>...</td>\n",
       "      <td>11.5</td>\n",
       "      <td>0.580</td>\n",
       "      <td>0.624</td>\n",
       "      <td>1.0</td>\n",
       "      <td>0.198</td>\n",
       "      <td>106.26</td>\n",
       "      <td>104.5</td>\n",
       "      <td>87.08</td>\n",
       "      <td>104</td>\n",
       "      <td>0.538</td>\n",
       "    </tr>\n",
       "    <tr>\n",
       "      <th>1304</th>\n",
       "      <td>0022001059</td>\n",
       "      <td>1610612740</td>\n",
       "      <td>Pelicans</td>\n",
       "      <td>NOP</td>\n",
       "      <td>New Orleans</td>\n",
       "      <td>240:00</td>\n",
       "      <td>112.6</td>\n",
       "      <td>116.2</td>\n",
       "      <td>120.0</td>\n",
       "      <td>120.2</td>\n",
       "      <td>...</td>\n",
       "      <td>8.6</td>\n",
       "      <td>0.520</td>\n",
       "      <td>0.548</td>\n",
       "      <td>1.0</td>\n",
       "      <td>0.198</td>\n",
       "      <td>106.26</td>\n",
       "      <td>104.5</td>\n",
       "      <td>87.08</td>\n",
       "      <td>105</td>\n",
       "      <td>0.462</td>\n",
       "    </tr>\n",
       "    <tr>\n",
       "      <th>161</th>\n",
       "      <td>0022001058</td>\n",
       "      <td>1610612745</td>\n",
       "      <td>Rockets</td>\n",
       "      <td>HOU</td>\n",
       "      <td>Houston</td>\n",
       "      <td>240:00</td>\n",
       "      <td>117.7</td>\n",
       "      <td>120.8</td>\n",
       "      <td>107.9</td>\n",
       "      <td>112.7</td>\n",
       "      <td>...</td>\n",
       "      <td>15.8</td>\n",
       "      <td>0.616</td>\n",
       "      <td>0.638</td>\n",
       "      <td>1.0</td>\n",
       "      <td>0.199</td>\n",
       "      <td>105.14</td>\n",
       "      <td>101.5</td>\n",
       "      <td>84.58</td>\n",
       "      <td>101</td>\n",
       "      <td>0.509</td>\n",
       "    </tr>\n",
       "    <tr>\n",
       "      <th>160</th>\n",
       "      <td>0022001058</td>\n",
       "      <td>1610612746</td>\n",
       "      <td>Clippers</td>\n",
       "      <td>LAC</td>\n",
       "      <td>LA</td>\n",
       "      <td>240:00</td>\n",
       "      <td>107.9</td>\n",
       "      <td>112.7</td>\n",
       "      <td>117.7</td>\n",
       "      <td>120.8</td>\n",
       "      <td>...</td>\n",
       "      <td>13.7</td>\n",
       "      <td>0.543</td>\n",
       "      <td>0.577</td>\n",
       "      <td>1.0</td>\n",
       "      <td>0.197</td>\n",
       "      <td>105.14</td>\n",
       "      <td>101.5</td>\n",
       "      <td>84.58</td>\n",
       "      <td>102</td>\n",
       "      <td>0.491</td>\n",
       "    </tr>\n",
       "  </tbody>\n",
       "</table>\n",
       "<p>4 rows × 29 columns</p>\n",
       "</div>"
      ],
      "text/plain": [
       "         GAME_ID     TEAM_ID TEAM_NAME TEAM_ABBREVIATION     TEAM_CITY  \\\n",
       "1305  0022001059  1610612744  Warriors               GSW  Golden State   \n",
       "1304  0022001059  1610612740  Pelicans               NOP   New Orleans   \n",
       "161   0022001058  1610612745   Rockets               HOU       Houston   \n",
       "160   0022001058  1610612746  Clippers               LAC            LA   \n",
       "\n",
       "         MIN  E_OFF_RATING  OFF_RATING  E_DEF_RATING  DEF_RATING  ...  \\\n",
       "1305  240:00         120.0       120.2         112.6       116.2  ...   \n",
       "1304  240:00         112.6       116.2         120.0       120.2  ...   \n",
       "161   240:00         117.7       120.8         107.9       112.7  ...   \n",
       "160   240:00         107.9       112.7         117.7       120.8  ...   \n",
       "\n",
       "      TM_TOV_PCT  EFG_PCT  TS_PCT  USG_PCT  E_USG_PCT  E_PACE   PACE  \\\n",
       "1305        11.5    0.580   0.624      1.0      0.198  106.26  104.5   \n",
       "1304         8.6    0.520   0.548      1.0      0.198  106.26  104.5   \n",
       "161         15.8    0.616   0.638      1.0      0.199  105.14  101.5   \n",
       "160         13.7    0.543   0.577      1.0      0.197  105.14  101.5   \n",
       "\n",
       "      PACE_PER40  POSS    PIE  \n",
       "1305       87.08   104  0.538  \n",
       "1304       87.08   105  0.462  \n",
       "161        84.58   101  0.509  \n",
       "160        84.58   102  0.491  \n",
       "\n",
       "[4 rows x 29 columns]"
      ]
     },
     "execution_count": 15,
     "metadata": {},
     "output_type": "execute_result"
    }
   ],
   "source": [
    "szn_adv_spark.toPandas().sort_values('GAME_ID', ascending=False).head(4)"
   ]
  },
  {
   "cell_type": "code",
   "execution_count": 16,
   "metadata": {},
   "outputs": [
    {
     "name": "stdout",
     "output_type": "stream",
     "text": [
      "root\n",
      " |-- SEASON_ID: string (nullable = true)\n",
      " |-- TEAM_ID: long (nullable = true)\n",
      " |-- TEAM_ABBREVIATION: string (nullable = true)\n",
      " |-- TEAM_NAME: string (nullable = true)\n",
      " |-- GAME_ID: string (nullable = true)\n",
      " |-- GAME_DATE: string (nullable = true)\n",
      " |-- MATCHUP: string (nullable = true)\n",
      " |-- WL: string (nullable = true)\n",
      " |-- MIN: long (nullable = true)\n",
      " |-- PTS: long (nullable = true)\n",
      " |-- FGM: long (nullable = true)\n",
      " |-- FGA: long (nullable = true)\n",
      " |-- FG_PCT: double (nullable = true)\n",
      " |-- FG3M: long (nullable = true)\n",
      " |-- FG3A: long (nullable = true)\n",
      " |-- FG3_PCT: double (nullable = true)\n",
      " |-- FTM: long (nullable = true)\n",
      " |-- FTA: long (nullable = true)\n",
      " |-- FT_PCT: double (nullable = true)\n",
      " |-- OREB: long (nullable = true)\n",
      " |-- DREB: long (nullable = true)\n",
      " |-- REB: long (nullable = true)\n",
      " |-- AST: long (nullable = true)\n",
      " |-- STL: long (nullable = true)\n",
      " |-- BLK: long (nullable = true)\n",
      " |-- TOV: long (nullable = true)\n",
      " |-- PF: long (nullable = true)\n",
      " |-- PLUS_MINUS: double (nullable = true)\n",
      "\n"
     ]
    }
   ],
   "source": [
    "all_games_spark.printSchema()"
   ]
  },
  {
   "cell_type": "markdown",
   "metadata": {},
   "source": [
    "### Combine DFs to get mathcup data for splitting and rejoinin home and away"
   ]
  },
  {
   "cell_type": "code",
   "execution_count": 17,
   "metadata": {},
   "outputs": [],
   "source": [
    "all_games_spark.createOrReplaceTempView('all_games_V')\n",
    "szn_adv_spark.createOrReplaceTempView('szn_adv_V')\n",
    "df = spark.sql('SELECT a.MATCHUP, a.WL, a.PF, s.* FROM all_games_V a RIGHT JOIN szn_adv_V s \\\n",
    "                        ON a.GAME_ID = s.GAME_ID AND a.TEAM_ID = s.TEAM_ID')"
   ]
  },
  {
   "cell_type": "code",
   "execution_count": 18,
   "metadata": {},
   "outputs": [
    {
     "name": "stdout",
     "output_type": "stream",
     "text": [
      "root\n",
      " |-- MATCHUP: string (nullable = true)\n",
      " |-- WL: string (nullable = true)\n",
      " |-- PF: long (nullable = true)\n",
      " |-- GAME_ID: string (nullable = true)\n",
      " |-- TEAM_ID: long (nullable = true)\n",
      " |-- TEAM_NAME: string (nullable = true)\n",
      " |-- TEAM_ABBREVIATION: string (nullable = true)\n",
      " |-- TEAM_CITY: string (nullable = true)\n",
      " |-- MIN: string (nullable = true)\n",
      " |-- E_OFF_RATING: double (nullable = true)\n",
      " |-- OFF_RATING: double (nullable = true)\n",
      " |-- E_DEF_RATING: double (nullable = true)\n",
      " |-- DEF_RATING: double (nullable = true)\n",
      " |-- E_NET_RATING: double (nullable = true)\n",
      " |-- NET_RATING: double (nullable = true)\n",
      " |-- AST_PCT: double (nullable = true)\n",
      " |-- AST_TOV: double (nullable = true)\n",
      " |-- AST_RATIO: double (nullable = true)\n",
      " |-- OREB_PCT: double (nullable = true)\n",
      " |-- DREB_PCT: double (nullable = true)\n",
      " |-- REB_PCT: double (nullable = true)\n",
      " |-- E_TM_TOV_PCT: double (nullable = true)\n",
      " |-- TM_TOV_PCT: double (nullable = true)\n",
      " |-- EFG_PCT: double (nullable = true)\n",
      " |-- TS_PCT: double (nullable = true)\n",
      " |-- USG_PCT: double (nullable = true)\n",
      " |-- E_USG_PCT: double (nullable = true)\n",
      " |-- E_PACE: double (nullable = true)\n",
      " |-- PACE: double (nullable = true)\n",
      " |-- PACE_PER40: double (nullable = true)\n",
      " |-- POSS: long (nullable = true)\n",
      " |-- PIE: double (nullable = true)\n",
      "\n"
     ]
    }
   ],
   "source": [
    "df.printSchema()"
   ]
  },
  {
   "cell_type": "code",
   "execution_count": 19,
   "metadata": {},
   "outputs": [
    {
     "data": {
      "text/html": [
       "<div>\n",
       "<style scoped>\n",
       "    .dataframe tbody tr th:only-of-type {\n",
       "        vertical-align: middle;\n",
       "    }\n",
       "\n",
       "    .dataframe tbody tr th {\n",
       "        vertical-align: top;\n",
       "    }\n",
       "\n",
       "    .dataframe thead th {\n",
       "        text-align: right;\n",
       "    }\n",
       "</style>\n",
       "<table border=\"1\" class=\"dataframe\">\n",
       "  <thead>\n",
       "    <tr style=\"text-align: right;\">\n",
       "      <th></th>\n",
       "      <th>MATCHUP</th>\n",
       "      <th>WL</th>\n",
       "      <th>PF</th>\n",
       "      <th>GAME_ID</th>\n",
       "      <th>TEAM_ID</th>\n",
       "      <th>TEAM_NAME</th>\n",
       "      <th>TEAM_ABBREVIATION</th>\n",
       "      <th>TEAM_CITY</th>\n",
       "      <th>MIN</th>\n",
       "      <th>E_OFF_RATING</th>\n",
       "      <th>...</th>\n",
       "      <th>TM_TOV_PCT</th>\n",
       "      <th>EFG_PCT</th>\n",
       "      <th>TS_PCT</th>\n",
       "      <th>USG_PCT</th>\n",
       "      <th>E_USG_PCT</th>\n",
       "      <th>E_PACE</th>\n",
       "      <th>PACE</th>\n",
       "      <th>PACE_PER40</th>\n",
       "      <th>POSS</th>\n",
       "      <th>PIE</th>\n",
       "    </tr>\n",
       "  </thead>\n",
       "  <tbody>\n",
       "    <tr>\n",
       "      <th>0</th>\n",
       "      <td>TOR @ SAS</td>\n",
       "      <td>L</td>\n",
       "      <td>23</td>\n",
       "      <td>0022000027</td>\n",
       "      <td>1610612761</td>\n",
       "      <td>Raptors</td>\n",
       "      <td>TOR</td>\n",
       "      <td>Toronto</td>\n",
       "      <td>240:00</td>\n",
       "      <td>109.0</td>\n",
       "      <td>...</td>\n",
       "      <td>11.5</td>\n",
       "      <td>0.536</td>\n",
       "      <td>0.556</td>\n",
       "      <td>1.0</td>\n",
       "      <td>0.199</td>\n",
       "      <td>106.82</td>\n",
       "      <td>104.0</td>\n",
       "      <td>86.67</td>\n",
       "      <td>104</td>\n",
       "      <td>0.491</td>\n",
       "    </tr>\n",
       "    <tr>\n",
       "      <th>1</th>\n",
       "      <td>ORL @ MIN</td>\n",
       "      <td>W</td>\n",
       "      <td>17</td>\n",
       "      <td>0022000221</td>\n",
       "      <td>1610612753</td>\n",
       "      <td>Magic</td>\n",
       "      <td>ORL</td>\n",
       "      <td>Orlando</td>\n",
       "      <td>240:00</td>\n",
       "      <td>96.8</td>\n",
       "      <td>...</td>\n",
       "      <td>12.5</td>\n",
       "      <td>0.446</td>\n",
       "      <td>0.479</td>\n",
       "      <td>1.0</td>\n",
       "      <td>0.198</td>\n",
       "      <td>99.70</td>\n",
       "      <td>95.5</td>\n",
       "      <td>79.58</td>\n",
       "      <td>96</td>\n",
       "      <td>0.505</td>\n",
       "    </tr>\n",
       "    <tr>\n",
       "      <th>2</th>\n",
       "      <td>IND @ MIL</td>\n",
       "      <td>L</td>\n",
       "      <td>13</td>\n",
       "      <td>0022000329</td>\n",
       "      <td>1610612754</td>\n",
       "      <td>Pacers</td>\n",
       "      <td>IND</td>\n",
       "      <td>Indiana</td>\n",
       "      <td>240:00</td>\n",
       "      <td>102.2</td>\n",
       "      <td>...</td>\n",
       "      <td>13.0</td>\n",
       "      <td>0.511</td>\n",
       "      <td>0.541</td>\n",
       "      <td>1.0</td>\n",
       "      <td>0.201</td>\n",
       "      <td>108.88</td>\n",
       "      <td>107.5</td>\n",
       "      <td>89.58</td>\n",
       "      <td>108</td>\n",
       "      <td>0.424</td>\n",
       "    </tr>\n",
       "    <tr>\n",
       "      <th>3</th>\n",
       "      <td>HOU @ NOP</td>\n",
       "      <td>L</td>\n",
       "      <td>23</td>\n",
       "      <td>0022000377</td>\n",
       "      <td>1610612745</td>\n",
       "      <td>Rockets</td>\n",
       "      <td>HOU</td>\n",
       "      <td>Houston</td>\n",
       "      <td>240:00</td>\n",
       "      <td>100.8</td>\n",
       "      <td>...</td>\n",
       "      <td>12.4</td>\n",
       "      <td>0.489</td>\n",
       "      <td>0.504</td>\n",
       "      <td>1.0</td>\n",
       "      <td>0.198</td>\n",
       "      <td>100.78</td>\n",
       "      <td>98.0</td>\n",
       "      <td>81.67</td>\n",
       "      <td>97</td>\n",
       "      <td>0.324</td>\n",
       "    </tr>\n",
       "    <tr>\n",
       "      <th>4</th>\n",
       "      <td>POR vs. PHI</td>\n",
       "      <td>W</td>\n",
       "      <td>21</td>\n",
       "      <td>0022000394</td>\n",
       "      <td>1610612757</td>\n",
       "      <td>Trail Blazers</td>\n",
       "      <td>POR</td>\n",
       "      <td>Portland</td>\n",
       "      <td>240:00</td>\n",
       "      <td>122.8</td>\n",
       "      <td>...</td>\n",
       "      <td>8.6</td>\n",
       "      <td>0.522</td>\n",
       "      <td>0.572</td>\n",
       "      <td>1.0</td>\n",
       "      <td>0.200</td>\n",
       "      <td>96.44</td>\n",
       "      <td>94.0</td>\n",
       "      <td>78.33</td>\n",
       "      <td>93</td>\n",
       "      <td>0.474</td>\n",
       "    </tr>\n",
       "  </tbody>\n",
       "</table>\n",
       "<p>5 rows × 32 columns</p>\n",
       "</div>"
      ],
      "text/plain": [
       "       MATCHUP WL  PF     GAME_ID     TEAM_ID      TEAM_NAME  \\\n",
       "0    TOR @ SAS  L  23  0022000027  1610612761        Raptors   \n",
       "1    ORL @ MIN  W  17  0022000221  1610612753          Magic   \n",
       "2    IND @ MIL  L  13  0022000329  1610612754         Pacers   \n",
       "3    HOU @ NOP  L  23  0022000377  1610612745        Rockets   \n",
       "4  POR vs. PHI  W  21  0022000394  1610612757  Trail Blazers   \n",
       "\n",
       "  TEAM_ABBREVIATION TEAM_CITY     MIN  E_OFF_RATING  ...  TM_TOV_PCT  EFG_PCT  \\\n",
       "0               TOR   Toronto  240:00         109.0  ...        11.5    0.536   \n",
       "1               ORL   Orlando  240:00          96.8  ...        12.5    0.446   \n",
       "2               IND   Indiana  240:00         102.2  ...        13.0    0.511   \n",
       "3               HOU   Houston  240:00         100.8  ...        12.4    0.489   \n",
       "4               POR  Portland  240:00         122.8  ...         8.6    0.522   \n",
       "\n",
       "   TS_PCT  USG_PCT  E_USG_PCT  E_PACE   PACE  PACE_PER40  POSS    PIE  \n",
       "0   0.556      1.0      0.199  106.82  104.0       86.67   104  0.491  \n",
       "1   0.479      1.0      0.198   99.70   95.5       79.58    96  0.505  \n",
       "2   0.541      1.0      0.201  108.88  107.5       89.58   108  0.424  \n",
       "3   0.504      1.0      0.198  100.78   98.0       81.67    97  0.324  \n",
       "4   0.572      1.0      0.200   96.44   94.0       78.33    93  0.474  \n",
       "\n",
       "[5 rows x 32 columns]"
      ]
     },
     "execution_count": 19,
     "metadata": {},
     "output_type": "execute_result"
    }
   ],
   "source": [
    "df.toPandas().head(5)"
   ]
  },
  {
   "cell_type": "markdown",
   "metadata": {},
   "source": [
    "### Split Home and Away"
   ]
  },
  {
   "cell_type": "code",
   "execution_count": 27,
   "metadata": {},
   "outputs": [],
   "source": [
    "home_df = df.filter(df.MATCHUP.contains('.'))\n",
    "away_df = df.filter(df.MATCHUP.contains('@'))"
   ]
  },
  {
   "cell_type": "markdown",
   "metadata": {},
   "source": [
    "#### Create HomeWin column comprised of binary response: 1 for home team win, 0 for home team loss."
   ]
  },
  {
   "cell_type": "code",
   "execution_count": 30,
   "metadata": {},
   "outputs": [],
   "source": [
    "home_df = home_df.withColumn('HomeWin', f.when(f.col('WL') == 'W', 1).otherwise(0))"
   ]
  },
  {
   "cell_type": "code",
   "execution_count": 42,
   "metadata": {},
   "outputs": [
    {
     "data": {
      "text/html": [
       "<div>\n",
       "<style scoped>\n",
       "    .dataframe tbody tr th:only-of-type {\n",
       "        vertical-align: middle;\n",
       "    }\n",
       "\n",
       "    .dataframe tbody tr th {\n",
       "        vertical-align: top;\n",
       "    }\n",
       "\n",
       "    .dataframe thead th {\n",
       "        text-align: right;\n",
       "    }\n",
       "</style>\n",
       "<table border=\"1\" class=\"dataframe\">\n",
       "  <thead>\n",
       "    <tr style=\"text-align: right;\">\n",
       "      <th></th>\n",
       "      <th>WL</th>\n",
       "      <th>HomeWin</th>\n",
       "    </tr>\n",
       "  </thead>\n",
       "  <tbody>\n",
       "    <tr>\n",
       "      <th>0</th>\n",
       "      <td>W</td>\n",
       "      <td>1</td>\n",
       "    </tr>\n",
       "    <tr>\n",
       "      <th>1</th>\n",
       "      <td>L</td>\n",
       "      <td>0</td>\n",
       "    </tr>\n",
       "    <tr>\n",
       "      <th>2</th>\n",
       "      <td>W</td>\n",
       "      <td>1</td>\n",
       "    </tr>\n",
       "  </tbody>\n",
       "</table>\n",
       "</div>"
      ],
      "text/plain": [
       "  WL  HomeWin\n",
       "0  W        1\n",
       "1  L        0\n",
       "2  W        1"
      ]
     },
     "execution_count": 42,
     "metadata": {},
     "output_type": "execute_result"
    }
   ],
   "source": [
    "home_df.toPandas()[['WL', 'HomeWin']].head(3)"
   ]
  },
  {
   "cell_type": "markdown",
   "metadata": {},
   "source": [
    "#### Prepare columns for `home_` and `away_` prefixes."
   ]
  },
  {
   "cell_type": "code",
   "execution_count": 191,
   "metadata": {},
   "outputs": [],
   "source": [
    "away_drop = ['MATCHUP', 'WL', 'GAME_ID', 'TEAM_CITY', 'MIN', 'USG_PCT']\n",
    "home_drop = away_drop + ['HomeWin']"
   ]
  },
  {
   "cell_type": "code",
   "execution_count": 192,
   "metadata": {},
   "outputs": [],
   "source": [
    "away_prep = away_df.drop(*away_drop)\n",
    "home_prep = home_df.drop(*home_drop)"
   ]
  },
  {
   "cell_type": "code",
   "execution_count": 193,
   "metadata": {},
   "outputs": [],
   "source": [
    "away_col_names = [f\"away_{i}\" for i in away_prep.columns]\n",
    "home_col_names = [f\"home_{i}\" for i in home_prep.columns]"
   ]
  },
  {
   "cell_type": "code",
   "execution_count": 194,
   "metadata": {},
   "outputs": [],
   "source": [
    "away_prep_df = away_prep.toDF(*away_col_names)\n",
    "home_prep_df = home_prep.toDF(*home_col_names)"
   ]
  },
  {
   "cell_type": "markdown",
   "metadata": {},
   "source": [
    "#### Cannot concatenate horizonatlly in PySpark. So, we'll convert some DFs to pandas, concatenate, and convert back to Spark DF"
   ]
  },
  {
   "cell_type": "code",
   "execution_count": 195,
   "metadata": {},
   "outputs": [],
   "source": [
    "final_away = spark.createDataFrame(pd.concat([away_df.toPandas()['GAME_ID'], away_prep_df.toPandas()], axis=1))"
   ]
  },
  {
   "cell_type": "code",
   "execution_count": 196,
   "metadata": {},
   "outputs": [],
   "source": [
    "final_home = spark.createDataFrame(pd.concat([home_df.toPandas()[['GAME_ID', 'HomeWin']], home_prep_df.toPandas()], axis=1))"
   ]
  },
  {
   "cell_type": "code",
   "execution_count": 197,
   "metadata": {},
   "outputs": [],
   "source": [
    "# This join method avoids duplicating the 'GAME_ID' column.\n",
    "final_df = final_home.join(final_away, 'GAME_ID')"
   ]
  },
  {
   "cell_type": "code",
   "execution_count": 198,
   "metadata": {},
   "outputs": [
    {
     "name": "stdout",
     "output_type": "stream",
     "text": [
      "root\n",
      " |-- GAME_ID: string (nullable = true)\n",
      " |-- HomeWin: long (nullable = true)\n",
      " |-- home_PF: long (nullable = true)\n",
      " |-- home_TEAM_ID: long (nullable = true)\n",
      " |-- home_TEAM_NAME: string (nullable = true)\n",
      " |-- home_TEAM_ABBREVIATION: string (nullable = true)\n",
      " |-- home_E_OFF_RATING: double (nullable = true)\n",
      " |-- home_OFF_RATING: double (nullable = true)\n",
      " |-- home_E_DEF_RATING: double (nullable = true)\n",
      " |-- home_DEF_RATING: double (nullable = true)\n",
      " |-- home_E_NET_RATING: double (nullable = true)\n",
      " |-- home_NET_RATING: double (nullable = true)\n",
      " |-- home_AST_PCT: double (nullable = true)\n",
      " |-- home_AST_TOV: double (nullable = true)\n",
      " |-- home_AST_RATIO: double (nullable = true)\n",
      " |-- home_OREB_PCT: double (nullable = true)\n",
      " |-- home_DREB_PCT: double (nullable = true)\n",
      " |-- home_REB_PCT: double (nullable = true)\n",
      " |-- home_E_TM_TOV_PCT: double (nullable = true)\n",
      " |-- home_TM_TOV_PCT: double (nullable = true)\n",
      " |-- home_EFG_PCT: double (nullable = true)\n",
      " |-- home_TS_PCT: double (nullable = true)\n",
      " |-- home_E_USG_PCT: double (nullable = true)\n",
      " |-- home_E_PACE: double (nullable = true)\n",
      " |-- home_PACE: double (nullable = true)\n",
      " |-- home_PACE_PER40: double (nullable = true)\n",
      " |-- home_POSS: long (nullable = true)\n",
      " |-- home_PIE: double (nullable = true)\n",
      " |-- away_PF: long (nullable = true)\n",
      " |-- away_TEAM_ID: long (nullable = true)\n",
      " |-- away_TEAM_NAME: string (nullable = true)\n",
      " |-- away_TEAM_ABBREVIATION: string (nullable = true)\n",
      " |-- away_E_OFF_RATING: double (nullable = true)\n",
      " |-- away_OFF_RATING: double (nullable = true)\n",
      " |-- away_E_DEF_RATING: double (nullable = true)\n",
      " |-- away_DEF_RATING: double (nullable = true)\n",
      " |-- away_E_NET_RATING: double (nullable = true)\n",
      " |-- away_NET_RATING: double (nullable = true)\n",
      " |-- away_AST_PCT: double (nullable = true)\n",
      " |-- away_AST_TOV: double (nullable = true)\n",
      " |-- away_AST_RATIO: double (nullable = true)\n",
      " |-- away_OREB_PCT: double (nullable = true)\n",
      " |-- away_DREB_PCT: double (nullable = true)\n",
      " |-- away_REB_PCT: double (nullable = true)\n",
      " |-- away_E_TM_TOV_PCT: double (nullable = true)\n",
      " |-- away_TM_TOV_PCT: double (nullable = true)\n",
      " |-- away_EFG_PCT: double (nullable = true)\n",
      " |-- away_TS_PCT: double (nullable = true)\n",
      " |-- away_E_USG_PCT: double (nullable = true)\n",
      " |-- away_E_PACE: double (nullable = true)\n",
      " |-- away_PACE: double (nullable = true)\n",
      " |-- away_PACE_PER40: double (nullable = true)\n",
      " |-- away_POSS: long (nullable = true)\n",
      " |-- away_PIE: double (nullable = true)\n",
      "\n"
     ]
    }
   ],
   "source": [
    "final_df.printSchema()"
   ]
  },
  {
   "cell_type": "markdown",
   "metadata": {},
   "source": [
    "### Standardize Data"
   ]
  },
  {
   "cell_type": "code",
   "execution_count": 199,
   "metadata": {},
   "outputs": [],
   "source": [
    "final_cols = final_df.columns"
   ]
  },
  {
   "cell_type": "code",
   "execution_count": 200,
   "metadata": {},
   "outputs": [],
   "source": [
    "drop_final_cols = ['GAME_ID', 'HomeWin', 'home_TEAM_ID', 'home_TEAM_NAME', 'home_TEAM_ABBREVIATION', 'away_TEAM_ID', 'away_TEAM_NAME', 'away_TEAM_ABBREVIATION']"
   ]
  },
  {
   "cell_type": "code",
   "execution_count": 201,
   "metadata": {},
   "outputs": [],
   "source": [
    "inputCols = [i for i in final_df.columns if i not in drop_final_cols]"
   ]
  },
  {
   "cell_type": "markdown",
   "metadata": {},
   "source": [
    "#### Split data in to training and testing set - 80% and 20%, respectively."
   ]
  },
  {
   "cell_type": "code",
   "execution_count": 202,
   "metadata": {},
   "outputs": [],
   "source": [
    "from pyspark.ml.feature import VectorAssembler\n",
    "from pyspark.ml.feature import StandardScaler"
   ]
  },
  {
   "cell_type": "code",
   "execution_count": 203,
   "metadata": {},
   "outputs": [],
   "source": [
    "va = VectorAssembler(inputCols = inputCols, outputCol = 'features')"
   ]
  },
  {
   "cell_type": "code",
   "execution_count": 204,
   "metadata": {},
   "outputs": [],
   "source": [
    "va_df = va.transform(final_df)\n",
    "va_df = va_df.select(['features', 'HomeWin'])"
   ]
  },
  {
   "cell_type": "code",
   "execution_count": 205,
   "metadata": {},
   "outputs": [],
   "source": [
    "train_test_split = va_df.randomSplit([0.8, 0.2], seed=76)\n",
    "train_df = train_test_split[0]\n",
    "test_df = train_test_split[1]"
   ]
  },
  {
   "cell_type": "code",
   "execution_count": 206,
   "metadata": {},
   "outputs": [],
   "source": [
    "scaler = StandardScaler(inputCol='features', outputCol='scaledFeats')\n",
    "train_scaled = scaler.fit(train_df).transform(train_df)\n",
    "test_scaled = scaler.fit(train_df).transform(test_df)"
   ]
  },
  {
   "cell_type": "code",
   "execution_count": 207,
   "metadata": {},
   "outputs": [
    {
     "data": {
      "image/png": "[encoded data removed]",
      "text/plain": [
       "<Figure size 1008x1008 with 2 Axes>"
      ]
     },
     "metadata": {
      "needs_background": "light"
     },
     "output_type": "display_data"
    }
   ],
   "source": [
    "plt.figure(figsize = (14,14))\n",
    "sns.heatmap(final_df.toPandas()[inputCols].corr())\n",
    "plt.show()"
   ]
  },
  {
   "cell_type": "markdown",
   "metadata": {},
   "source": [
    "### Modeling"
   ]
  },
  {
   "cell_type": "code",
   "execution_count": 208,
   "metadata": {},
   "outputs": [],
   "source": [
    "from pyspark.ml.classification import LogisticRegression\n",
    "from pyspark.ml.evaluation import BinaryClassificationEvaluator"
   ]
  },
  {
   "cell_type": "code",
   "execution_count": 209,
   "metadata": {},
   "outputs": [],
   "source": [
    "lr = LogisticRegression(featuresCol='scaledFeats', labelCol='HomeWin', maxIter=10, regParam=0.3, elasticNetParam=0.8)\n",
    "lr_model = lr.fit(train_scaled)\n",
    "lr_predictions = lr_model.transform(test_scaled)"
   ]
  },
  {
   "cell_type": "code",
   "execution_count": 210,
   "metadata": {},
   "outputs": [
    {
     "data": {
      "text/plain": [
       "0.9932432432432432"
      ]
     },
     "execution_count": 210,
     "metadata": {},
     "output_type": "execute_result"
    }
   ],
   "source": [
    "lr_evaluator = BinaryClassificationEvaluator(labelCol='HomeWin')\n",
    "lr_evaluator.evaluate(lr_predictions)"
   ]
  }
 ],
 "metadata": {
  "kernelspec": {
   "display_name": "Python 3",
   "language": "python",
   "name": "python3"
  },
  "language_info": {
   "codemirror_mode": {
    "name": "ipython",
    "version": 3
   },
   "file_extension": ".py",
   "mimetype": "text/x-python",
   "name": "python",
   "nbconvert_exporter": "python",
   "pygments_lexer": "ipython3",
   "version": "3.8.2"
  }
 },
 "nbformat": 4,
 "nbformat_minor": 4
}
