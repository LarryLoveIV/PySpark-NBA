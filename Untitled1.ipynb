{
 "cells": [
  {
   "cell_type": "code",
   "execution_count": 1,
   "metadata": {},
   "outputs": [],
   "source": [
    "import pyspark\n",
    "from pyspark.sql import SparkSession\n",
    "from pyspark.sql import functions as f\n",
    "import pandas as pd\n",
    "import numpy as np\n",
    "import matplotlib.pyplot as plt\n",
    "import seaborn as sns\n",
    "import time\n",
    "from itertools import chain"
   ]
  },
  {
   "cell_type": "code",
   "execution_count": 2,
   "metadata": {},
   "outputs": [],
   "source": [
    "from nba_api.stats.endpoints import leaguegamefinder\n",
    "from nba_api.stats.endpoints import teamdashboardbylastngames\n",
    "from nba_api.stats.endpoints import leaguedashteamstats\n",
    "from nba_api.stats.endpoints import boxscoreadvancedv2\n",
    "from nba_api.stats.static import teams"
   ]
  },
  {
   "cell_type": "markdown",
   "metadata": {},
   "source": [
    "### Get a dataframe that contains team ids, abbervations, and nicknames for later use."
   ]
  },
  {
   "cell_type": "code",
   "execution_count": 3,
   "metadata": {},
   "outputs": [],
   "source": [
    "team_df = pd.DataFrame(teams.get_teams())"
   ]
  },
  {
   "cell_type": "code",
   "execution_count": 4,
   "metadata": {},
   "outputs": [],
   "source": [
    "team_df = team_df[['id', 'abbreviation', 'nickname']]"
   ]
  },
  {
   "cell_type": "markdown",
   "metadata": {},
   "source": [
    "### Pull all games so we can store the game ids & build rows of matchups"
   ]
  },
  {
   "cell_type": "code",
   "execution_count": 5,
   "metadata": {},
   "outputs": [],
   "source": [
    "all_games = leaguegamefinder.LeagueGameFinder(season_nullable='2020-21', league_id_nullable='00', season_type_nullable='Regular Season').get_data_frames()[0]"
   ]
  },
  {
   "cell_type": "code",
   "execution_count": 6,
   "metadata": {},
   "outputs": [],
   "source": [
    "all_game_ids = set(all_games['GAME_ID'])"
   ]
  },
  {
   "cell_type": "markdown",
   "metadata": {},
   "source": [
    "### Use games ids to create a dataframe of advanced metrics for every game"
   ]
  },
  {
   "cell_type": "code",
   "execution_count": 7,
   "metadata": {},
   "outputs": [],
   "source": [
    "season_advanced=[]\n",
    "for i in all_game_ids:\n",
    "    season_advanced.append(boxscoreadvancedv2.BoxScoreAdvancedV2(game_id=i).get_normalized_dict()['TeamStats'])"
   ]
  },
  {
   "cell_type": "code",
   "execution_count": 8,
   "metadata": {},
   "outputs": [],
   "source": [
    "szn_adv_df = pd.DataFrame(list(chain.from_iterable(season_advanced)))"
   ]
  },
  {
   "cell_type": "code",
   "execution_count": 9,
   "metadata": {},
   "outputs": [
    {
     "data": {
      "text/plain": [
       "True"
      ]
     },
     "execution_count": 9,
     "metadata": {},
     "output_type": "execute_result"
    }
   ],
   "source": [
    "len(all_games) == len(szn_adv_df)"
   ]
  },
  {
   "cell_type": "markdown",
   "metadata": {},
   "source": [
    "### Implement Spark"
   ]
  },
  {
   "cell_type": "code",
   "execution_count": 10,
   "metadata": {},
   "outputs": [],
   "source": [
    "spark = SparkSession.builder.appName('NBA_Advanced_Stats_Model').getOrCreate()"
   ]
  },
  {
   "cell_type": "code",
   "execution_count": 12,
   "metadata": {},
   "outputs": [],
   "source": [
    "team_spark = spark.createDataFrame(team_df)\n",
    "all_games_spark = spark.createDataFrame(all_games)\n",
    "szn_adv_spark = spark.createDataFrame(szn_adv_df)"
   ]
  },
  {
   "cell_type": "code",
   "execution_count": 13,
   "metadata": {},
   "outputs": [
    {
     "data": {
      "text/html": [
       "<div>\n",
       "<style scoped>\n",
       "    .dataframe tbody tr th:only-of-type {\n",
       "        vertical-align: middle;\n",
       "    }\n",
       "\n",
       "    .dataframe tbody tr th {\n",
       "        vertical-align: top;\n",
       "    }\n",
       "\n",
       "    .dataframe thead th {\n",
       "        text-align: right;\n",
       "    }\n",
       "</style>\n",
       "<table border=\"1\" class=\"dataframe\">\n",
       "  <thead>\n",
       "    <tr style=\"text-align: right;\">\n",
       "      <th></th>\n",
       "      <th>SEASON_ID</th>\n",
       "      <th>TEAM_ID</th>\n",
       "      <th>TEAM_ABBREVIATION</th>\n",
       "      <th>TEAM_NAME</th>\n",
       "      <th>GAME_ID</th>\n",
       "      <th>GAME_DATE</th>\n",
       "      <th>MATCHUP</th>\n",
       "      <th>WL</th>\n",
       "      <th>MIN</th>\n",
       "      <th>PTS</th>\n",
       "      <th>...</th>\n",
       "      <th>FT_PCT</th>\n",
       "      <th>OREB</th>\n",
       "      <th>DREB</th>\n",
       "      <th>REB</th>\n",
       "      <th>AST</th>\n",
       "      <th>STL</th>\n",
       "      <th>BLK</th>\n",
       "      <th>TOV</th>\n",
       "      <th>PF</th>\n",
       "      <th>PLUS_MINUS</th>\n",
       "    </tr>\n",
       "  </thead>\n",
       "  <tbody>\n",
       "    <tr>\n",
       "      <th>0</th>\n",
       "      <td>22020</td>\n",
       "      <td>1610612759</td>\n",
       "      <td>SAS</td>\n",
       "      <td>San Antonio Spurs</td>\n",
       "      <td>0022001065</td>\n",
       "      <td>2021-05-15</td>\n",
       "      <td>SAS vs. PHX</td>\n",
       "      <td>L</td>\n",
       "      <td>240</td>\n",
       "      <td>103</td>\n",
       "      <td>...</td>\n",
       "      <td>0.875</td>\n",
       "      <td>7</td>\n",
       "      <td>34</td>\n",
       "      <td>41</td>\n",
       "      <td>23</td>\n",
       "      <td>5</td>\n",
       "      <td>2</td>\n",
       "      <td>16</td>\n",
       "      <td>17</td>\n",
       "      <td>-37.0</td>\n",
       "    </tr>\n",
       "    <tr>\n",
       "      <th>11</th>\n",
       "      <td>22020</td>\n",
       "      <td>1610612756</td>\n",
       "      <td>PHX</td>\n",
       "      <td>Phoenix Suns</td>\n",
       "      <td>0022001065</td>\n",
       "      <td>2021-05-15</td>\n",
       "      <td>PHX @ SAS</td>\n",
       "      <td>W</td>\n",
       "      <td>238</td>\n",
       "      <td>140</td>\n",
       "      <td>...</td>\n",
       "      <td>0.955</td>\n",
       "      <td>7</td>\n",
       "      <td>40</td>\n",
       "      <td>47</td>\n",
       "      <td>32</td>\n",
       "      <td>10</td>\n",
       "      <td>1</td>\n",
       "      <td>10</td>\n",
       "      <td>15</td>\n",
       "      <td>37.0</td>\n",
       "    </tr>\n",
       "    <tr>\n",
       "      <th>10</th>\n",
       "      <td>22020</td>\n",
       "      <td>1610612766</td>\n",
       "      <td>CHA</td>\n",
       "      <td>Charlotte Hornets</td>\n",
       "      <td>0022001064</td>\n",
       "      <td>2021-05-15</td>\n",
       "      <td>CHA @ NYK</td>\n",
       "      <td>L</td>\n",
       "      <td>265</td>\n",
       "      <td>109</td>\n",
       "      <td>...</td>\n",
       "      <td>0.750</td>\n",
       "      <td>15</td>\n",
       "      <td>36</td>\n",
       "      <td>51</td>\n",
       "      <td>28</td>\n",
       "      <td>5</td>\n",
       "      <td>2</td>\n",
       "      <td>8</td>\n",
       "      <td>18</td>\n",
       "      <td>-9.0</td>\n",
       "    </tr>\n",
       "    <tr>\n",
       "      <th>5</th>\n",
       "      <td>22020</td>\n",
       "      <td>1610612752</td>\n",
       "      <td>NYK</td>\n",
       "      <td>New York Knicks</td>\n",
       "      <td>0022001064</td>\n",
       "      <td>2021-05-15</td>\n",
       "      <td>NYK vs. CHA</td>\n",
       "      <td>W</td>\n",
       "      <td>263</td>\n",
       "      <td>118</td>\n",
       "      <td>...</td>\n",
       "      <td>0.800</td>\n",
       "      <td>7</td>\n",
       "      <td>43</td>\n",
       "      <td>50</td>\n",
       "      <td>29</td>\n",
       "      <td>3</td>\n",
       "      <td>7</td>\n",
       "      <td>9</td>\n",
       "      <td>20</td>\n",
       "      <td>9.0</td>\n",
       "    </tr>\n",
       "  </tbody>\n",
       "</table>\n",
       "<p>4 rows × 28 columns</p>\n",
       "</div>"
      ],
      "text/plain": [
       "   SEASON_ID     TEAM_ID TEAM_ABBREVIATION          TEAM_NAME     GAME_ID  \\\n",
       "0      22020  1610612759               SAS  San Antonio Spurs  0022001065   \n",
       "11     22020  1610612756               PHX       Phoenix Suns  0022001065   \n",
       "10     22020  1610612766               CHA  Charlotte Hornets  0022001064   \n",
       "5      22020  1610612752               NYK    New York Knicks  0022001064   \n",
       "\n",
       "     GAME_DATE      MATCHUP WL  MIN  PTS  ...  FT_PCT  OREB  DREB  REB  AST  \\\n",
       "0   2021-05-15  SAS vs. PHX  L  240  103  ...   0.875     7    34   41   23   \n",
       "11  2021-05-15    PHX @ SAS  W  238  140  ...   0.955     7    40   47   32   \n",
       "10  2021-05-15    CHA @ NYK  L  265  109  ...   0.750    15    36   51   28   \n",
       "5   2021-05-15  NYK vs. CHA  W  263  118  ...   0.800     7    43   50   29   \n",
       "\n",
       "    STL  BLK  TOV  PF  PLUS_MINUS  \n",
       "0     5    2   16  17       -37.0  \n",
       "11   10    1   10  15        37.0  \n",
       "10    5    2    8  18        -9.0  \n",
       "5     3    7    9  20         9.0  \n",
       "\n",
       "[4 rows x 28 columns]"
      ]
     },
     "execution_count": 13,
     "metadata": {},
     "output_type": "execute_result"
    }
   ],
   "source": [
    "all_games_spark.toPandas().sort_values('GAME_ID', ascending=False).head(4)"
   ]
  },
  {
   "cell_type": "code",
   "execution_count": 14,
   "metadata": {},
   "outputs": [
    {
     "data": {
      "text/html": [
       "<div>\n",
       "<style scoped>\n",
       "    .dataframe tbody tr th:only-of-type {\n",
       "        vertical-align: middle;\n",
       "    }\n",
       "\n",
       "    .dataframe tbody tr th {\n",
       "        vertical-align: top;\n",
       "    }\n",
       "\n",
       "    .dataframe thead th {\n",
       "        text-align: right;\n",
       "    }\n",
       "</style>\n",
       "<table border=\"1\" class=\"dataframe\">\n",
       "  <thead>\n",
       "    <tr style=\"text-align: right;\">\n",
       "      <th></th>\n",
       "      <th>GAME_ID</th>\n",
       "      <th>TEAM_ID</th>\n",
       "      <th>TEAM_NAME</th>\n",
       "      <th>TEAM_ABBREVIATION</th>\n",
       "      <th>TEAM_CITY</th>\n",
       "      <th>MIN</th>\n",
       "      <th>E_OFF_RATING</th>\n",
       "      <th>OFF_RATING</th>\n",
       "      <th>E_DEF_RATING</th>\n",
       "      <th>DEF_RATING</th>\n",
       "      <th>...</th>\n",
       "      <th>TM_TOV_PCT</th>\n",
       "      <th>EFG_PCT</th>\n",
       "      <th>TS_PCT</th>\n",
       "      <th>USG_PCT</th>\n",
       "      <th>E_USG_PCT</th>\n",
       "      <th>E_PACE</th>\n",
       "      <th>PACE</th>\n",
       "      <th>PACE_PER40</th>\n",
       "      <th>POSS</th>\n",
       "      <th>PIE</th>\n",
       "    </tr>\n",
       "  </thead>\n",
       "  <tbody>\n",
       "    <tr>\n",
       "      <th>174</th>\n",
       "      <td>0022001065</td>\n",
       "      <td>1610612759</td>\n",
       "      <td>Spurs</td>\n",
       "      <td>SAS</td>\n",
       "      <td>San Antonio</td>\n",
       "      <td>240:00</td>\n",
       "      <td>95.8</td>\n",
       "      <td>96.3</td>\n",
       "      <td>131.2</td>\n",
       "      <td>132.1</td>\n",
       "      <td>...</td>\n",
       "      <td>15.0</td>\n",
       "      <td>0.466</td>\n",
       "      <td>0.523</td>\n",
       "      <td>1.0</td>\n",
       "      <td>0.199</td>\n",
       "      <td>107.12</td>\n",
       "      <td>106.50</td>\n",
       "      <td>88.75</td>\n",
       "      <td>107</td>\n",
       "      <td>0.348</td>\n",
       "    </tr>\n",
       "    <tr>\n",
       "      <th>175</th>\n",
       "      <td>0022001065</td>\n",
       "      <td>1610612756</td>\n",
       "      <td>Suns</td>\n",
       "      <td>PHX</td>\n",
       "      <td>Phoenix</td>\n",
       "      <td>240:00</td>\n",
       "      <td>131.2</td>\n",
       "      <td>132.1</td>\n",
       "      <td>95.8</td>\n",
       "      <td>96.3</td>\n",
       "      <td>...</td>\n",
       "      <td>9.4</td>\n",
       "      <td>0.633</td>\n",
       "      <td>0.675</td>\n",
       "      <td>1.0</td>\n",
       "      <td>0.199</td>\n",
       "      <td>107.12</td>\n",
       "      <td>106.50</td>\n",
       "      <td>88.75</td>\n",
       "      <td>106</td>\n",
       "      <td>0.652</td>\n",
       "    </tr>\n",
       "    <tr>\n",
       "      <th>1305</th>\n",
       "      <td>0022001064</td>\n",
       "      <td>1610612766</td>\n",
       "      <td>Hornets</td>\n",
       "      <td>CHA</td>\n",
       "      <td>Charlotte</td>\n",
       "      <td>265:00</td>\n",
       "      <td>103.3</td>\n",
       "      <td>110.1</td>\n",
       "      <td>120.9</td>\n",
       "      <td>119.2</td>\n",
       "      <td>...</td>\n",
       "      <td>8.1</td>\n",
       "      <td>0.446</td>\n",
       "      <td>0.484</td>\n",
       "      <td>1.0</td>\n",
       "      <td>0.197</td>\n",
       "      <td>92.00</td>\n",
       "      <td>89.66</td>\n",
       "      <td>74.72</td>\n",
       "      <td>99</td>\n",
       "      <td>0.425</td>\n",
       "    </tr>\n",
       "    <tr>\n",
       "      <th>1304</th>\n",
       "      <td>0022001064</td>\n",
       "      <td>1610612752</td>\n",
       "      <td>Knicks</td>\n",
       "      <td>NYK</td>\n",
       "      <td>New York</td>\n",
       "      <td>265:00</td>\n",
       "      <td>120.9</td>\n",
       "      <td>119.2</td>\n",
       "      <td>103.3</td>\n",
       "      <td>110.1</td>\n",
       "      <td>...</td>\n",
       "      <td>10.1</td>\n",
       "      <td>0.602</td>\n",
       "      <td>0.624</td>\n",
       "      <td>1.0</td>\n",
       "      <td>0.199</td>\n",
       "      <td>92.00</td>\n",
       "      <td>89.66</td>\n",
       "      <td>74.72</td>\n",
       "      <td>99</td>\n",
       "      <td>0.575</td>\n",
       "    </tr>\n",
       "  </tbody>\n",
       "</table>\n",
       "<p>4 rows × 29 columns</p>\n",
       "</div>"
      ],
      "text/plain": [
       "         GAME_ID     TEAM_ID TEAM_NAME TEAM_ABBREVIATION    TEAM_CITY     MIN  \\\n",
       "174   0022001065  1610612759     Spurs               SAS  San Antonio  240:00   \n",
       "175   0022001065  1610612756      Suns               PHX      Phoenix  240:00   \n",
       "1305  0022001064  1610612766   Hornets               CHA    Charlotte  265:00   \n",
       "1304  0022001064  1610612752    Knicks               NYK     New York  265:00   \n",
       "\n",
       "      E_OFF_RATING  OFF_RATING  E_DEF_RATING  DEF_RATING  ...  TM_TOV_PCT  \\\n",
       "174           95.8        96.3         131.2       132.1  ...        15.0   \n",
       "175          131.2       132.1          95.8        96.3  ...         9.4   \n",
       "1305         103.3       110.1         120.9       119.2  ...         8.1   \n",
       "1304         120.9       119.2         103.3       110.1  ...        10.1   \n",
       "\n",
       "      EFG_PCT  TS_PCT  USG_PCT  E_USG_PCT  E_PACE    PACE  PACE_PER40  POSS  \\\n",
       "174     0.466   0.523      1.0      0.199  107.12  106.50       88.75   107   \n",
       "175     0.633   0.675      1.0      0.199  107.12  106.50       88.75   106   \n",
       "1305    0.446   0.484      1.0      0.197   92.00   89.66       74.72    99   \n",
       "1304    0.602   0.624      1.0      0.199   92.00   89.66       74.72    99   \n",
       "\n",
       "        PIE  \n",
       "174   0.348  \n",
       "175   0.652  \n",
       "1305  0.425  \n",
       "1304  0.575  \n",
       "\n",
       "[4 rows x 29 columns]"
      ]
     },
     "execution_count": 14,
     "metadata": {},
     "output_type": "execute_result"
    }
   ],
   "source": [
    "szn_adv_spark.toPandas().sort_values('GAME_ID', ascending=False).head(4)"
   ]
  },
  {
   "cell_type": "code",
   "execution_count": 15,
   "metadata": {},
   "outputs": [
    {
     "name": "stdout",
     "output_type": "stream",
     "text": [
      "root\n",
      " |-- SEASON_ID: string (nullable = true)\n",
      " |-- TEAM_ID: long (nullable = true)\n",
      " |-- TEAM_ABBREVIATION: string (nullable = true)\n",
      " |-- TEAM_NAME: string (nullable = true)\n",
      " |-- GAME_ID: string (nullable = true)\n",
      " |-- GAME_DATE: string (nullable = true)\n",
      " |-- MATCHUP: string (nullable = true)\n",
      " |-- WL: string (nullable = true)\n",
      " |-- MIN: long (nullable = true)\n",
      " |-- PTS: long (nullable = true)\n",
      " |-- FGM: long (nullable = true)\n",
      " |-- FGA: long (nullable = true)\n",
      " |-- FG_PCT: double (nullable = true)\n",
      " |-- FG3M: long (nullable = true)\n",
      " |-- FG3A: long (nullable = true)\n",
      " |-- FG3_PCT: double (nullable = true)\n",
      " |-- FTM: long (nullable = true)\n",
      " |-- FTA: long (nullable = true)\n",
      " |-- FT_PCT: double (nullable = true)\n",
      " |-- OREB: long (nullable = true)\n",
      " |-- DREB: long (nullable = true)\n",
      " |-- REB: long (nullable = true)\n",
      " |-- AST: long (nullable = true)\n",
      " |-- STL: long (nullable = true)\n",
      " |-- BLK: long (nullable = true)\n",
      " |-- TOV: long (nullable = true)\n",
      " |-- PF: long (nullable = true)\n",
      " |-- PLUS_MINUS: double (nullable = true)\n",
      "\n"
     ]
    }
   ],
   "source": [
    "all_games_spark.printSchema()"
   ]
  },
  {
   "cell_type": "markdown",
   "metadata": {},
   "source": [
    "### Combine DFs to get mathcup data for splitting and rejoinin home and away"
   ]
  },
  {
   "cell_type": "code",
   "execution_count": 16,
   "metadata": {},
   "outputs": [],
   "source": [
    "all_games_spark.createOrReplaceTempView('all_games_V')\n",
    "szn_adv_spark.createOrReplaceTempView('szn_adv_V')\n",
    "df = spark.sql('SELECT a.MATCHUP, a.WL, a.PF, s.* FROM all_games_V a RIGHT JOIN szn_adv_V s \\\n",
    "                        ON a.GAME_ID = s.GAME_ID AND a.TEAM_ID = s.TEAM_ID')"
   ]
  },
  {
   "cell_type": "code",
   "execution_count": 17,
   "metadata": {},
   "outputs": [
    {
     "name": "stdout",
     "output_type": "stream",
     "text": [
      "root\n",
      " |-- MATCHUP: string (nullable = true)\n",
      " |-- WL: string (nullable = true)\n",
      " |-- PF: long (nullable = true)\n",
      " |-- GAME_ID: string (nullable = true)\n",
      " |-- TEAM_ID: long (nullable = true)\n",
      " |-- TEAM_NAME: string (nullable = true)\n",
      " |-- TEAM_ABBREVIATION: string (nullable = true)\n",
      " |-- TEAM_CITY: string (nullable = true)\n",
      " |-- MIN: string (nullable = true)\n",
      " |-- E_OFF_RATING: double (nullable = true)\n",
      " |-- OFF_RATING: double (nullable = true)\n",
      " |-- E_DEF_RATING: double (nullable = true)\n",
      " |-- DEF_RATING: double (nullable = true)\n",
      " |-- E_NET_RATING: double (nullable = true)\n",
      " |-- NET_RATING: double (nullable = true)\n",
      " |-- AST_PCT: double (nullable = true)\n",
      " |-- AST_TOV: double (nullable = true)\n",
      " |-- AST_RATIO: double (nullable = true)\n",
      " |-- OREB_PCT: double (nullable = true)\n",
      " |-- DREB_PCT: double (nullable = true)\n",
      " |-- REB_PCT: double (nullable = true)\n",
      " |-- E_TM_TOV_PCT: double (nullable = true)\n",
      " |-- TM_TOV_PCT: double (nullable = true)\n",
      " |-- EFG_PCT: double (nullable = true)\n",
      " |-- TS_PCT: double (nullable = true)\n",
      " |-- USG_PCT: double (nullable = true)\n",
      " |-- E_USG_PCT: double (nullable = true)\n",
      " |-- E_PACE: double (nullable = true)\n",
      " |-- PACE: double (nullable = true)\n",
      " |-- PACE_PER40: double (nullable = true)\n",
      " |-- POSS: long (nullable = true)\n",
      " |-- PIE: double (nullable = true)\n",
      "\n"
     ]
    }
   ],
   "source": [
    "df.printSchema()"
   ]
  },
  {
   "cell_type": "code",
   "execution_count": 18,
   "metadata": {},
   "outputs": [
    {
     "data": {
      "text/html": [
       "<div>\n",
       "<style scoped>\n",
       "    .dataframe tbody tr th:only-of-type {\n",
       "        vertical-align: middle;\n",
       "    }\n",
       "\n",
       "    .dataframe tbody tr th {\n",
       "        vertical-align: top;\n",
       "    }\n",
       "\n",
       "    .dataframe thead th {\n",
       "        text-align: right;\n",
       "    }\n",
       "</style>\n",
       "<table border=\"1\" class=\"dataframe\">\n",
       "  <thead>\n",
       "    <tr style=\"text-align: right;\">\n",
       "      <th></th>\n",
       "      <th>MATCHUP</th>\n",
       "      <th>WL</th>\n",
       "      <th>PF</th>\n",
       "      <th>GAME_ID</th>\n",
       "      <th>TEAM_ID</th>\n",
       "      <th>TEAM_NAME</th>\n",
       "      <th>TEAM_ABBREVIATION</th>\n",
       "      <th>TEAM_CITY</th>\n",
       "      <th>MIN</th>\n",
       "      <th>E_OFF_RATING</th>\n",
       "      <th>...</th>\n",
       "      <th>TM_TOV_PCT</th>\n",
       "      <th>EFG_PCT</th>\n",
       "      <th>TS_PCT</th>\n",
       "      <th>USG_PCT</th>\n",
       "      <th>E_USG_PCT</th>\n",
       "      <th>E_PACE</th>\n",
       "      <th>PACE</th>\n",
       "      <th>PACE_PER40</th>\n",
       "      <th>POSS</th>\n",
       "      <th>PIE</th>\n",
       "    </tr>\n",
       "  </thead>\n",
       "  <tbody>\n",
       "    <tr>\n",
       "      <th>0</th>\n",
       "      <td>TOR @ SAS</td>\n",
       "      <td>L</td>\n",
       "      <td>23</td>\n",
       "      <td>0022000027</td>\n",
       "      <td>1610612761</td>\n",
       "      <td>Raptors</td>\n",
       "      <td>TOR</td>\n",
       "      <td>Toronto</td>\n",
       "      <td>240:00</td>\n",
       "      <td>109.0</td>\n",
       "      <td>...</td>\n",
       "      <td>11.5</td>\n",
       "      <td>0.536</td>\n",
       "      <td>0.556</td>\n",
       "      <td>1.0</td>\n",
       "      <td>0.199</td>\n",
       "      <td>106.82</td>\n",
       "      <td>104.0</td>\n",
       "      <td>86.67</td>\n",
       "      <td>104</td>\n",
       "      <td>0.491</td>\n",
       "    </tr>\n",
       "    <tr>\n",
       "      <th>1</th>\n",
       "      <td>ORL @ MIN</td>\n",
       "      <td>W</td>\n",
       "      <td>17</td>\n",
       "      <td>0022000221</td>\n",
       "      <td>1610612753</td>\n",
       "      <td>Magic</td>\n",
       "      <td>ORL</td>\n",
       "      <td>Orlando</td>\n",
       "      <td>240:00</td>\n",
       "      <td>96.8</td>\n",
       "      <td>...</td>\n",
       "      <td>12.5</td>\n",
       "      <td>0.446</td>\n",
       "      <td>0.479</td>\n",
       "      <td>1.0</td>\n",
       "      <td>0.198</td>\n",
       "      <td>99.70</td>\n",
       "      <td>95.5</td>\n",
       "      <td>79.58</td>\n",
       "      <td>96</td>\n",
       "      <td>0.505</td>\n",
       "    </tr>\n",
       "    <tr>\n",
       "      <th>2</th>\n",
       "      <td>IND @ MIL</td>\n",
       "      <td>L</td>\n",
       "      <td>13</td>\n",
       "      <td>0022000329</td>\n",
       "      <td>1610612754</td>\n",
       "      <td>Pacers</td>\n",
       "      <td>IND</td>\n",
       "      <td>Indiana</td>\n",
       "      <td>240:00</td>\n",
       "      <td>102.2</td>\n",
       "      <td>...</td>\n",
       "      <td>13.0</td>\n",
       "      <td>0.511</td>\n",
       "      <td>0.541</td>\n",
       "      <td>1.0</td>\n",
       "      <td>0.201</td>\n",
       "      <td>108.88</td>\n",
       "      <td>107.5</td>\n",
       "      <td>89.58</td>\n",
       "      <td>108</td>\n",
       "      <td>0.424</td>\n",
       "    </tr>\n",
       "    <tr>\n",
       "      <th>3</th>\n",
       "      <td>HOU @ NOP</td>\n",
       "      <td>L</td>\n",
       "      <td>23</td>\n",
       "      <td>0022000377</td>\n",
       "      <td>1610612745</td>\n",
       "      <td>Rockets</td>\n",
       "      <td>HOU</td>\n",
       "      <td>Houston</td>\n",
       "      <td>240:00</td>\n",
       "      <td>100.8</td>\n",
       "      <td>...</td>\n",
       "      <td>12.4</td>\n",
       "      <td>0.489</td>\n",
       "      <td>0.504</td>\n",
       "      <td>1.0</td>\n",
       "      <td>0.198</td>\n",
       "      <td>100.78</td>\n",
       "      <td>98.0</td>\n",
       "      <td>81.67</td>\n",
       "      <td>97</td>\n",
       "      <td>0.324</td>\n",
       "    </tr>\n",
       "    <tr>\n",
       "      <th>4</th>\n",
       "      <td>POR vs. PHI</td>\n",
       "      <td>W</td>\n",
       "      <td>21</td>\n",
       "      <td>0022000394</td>\n",
       "      <td>1610612757</td>\n",
       "      <td>Trail Blazers</td>\n",
       "      <td>POR</td>\n",
       "      <td>Portland</td>\n",
       "      <td>240:00</td>\n",
       "      <td>122.8</td>\n",
       "      <td>...</td>\n",
       "      <td>8.6</td>\n",
       "      <td>0.522</td>\n",
       "      <td>0.572</td>\n",
       "      <td>1.0</td>\n",
       "      <td>0.200</td>\n",
       "      <td>96.44</td>\n",
       "      <td>94.0</td>\n",
       "      <td>78.33</td>\n",
       "      <td>93</td>\n",
       "      <td>0.474</td>\n",
       "    </tr>\n",
       "  </tbody>\n",
       "</table>\n",
       "<p>5 rows × 32 columns</p>\n",
       "</div>"
      ],
      "text/plain": [
       "       MATCHUP WL  PF     GAME_ID     TEAM_ID      TEAM_NAME  \\\n",
       "0    TOR @ SAS  L  23  0022000027  1610612761        Raptors   \n",
       "1    ORL @ MIN  W  17  0022000221  1610612753          Magic   \n",
       "2    IND @ MIL  L  13  0022000329  1610612754         Pacers   \n",
       "3    HOU @ NOP  L  23  0022000377  1610612745        Rockets   \n",
       "4  POR vs. PHI  W  21  0022000394  1610612757  Trail Blazers   \n",
       "\n",
       "  TEAM_ABBREVIATION TEAM_CITY     MIN  E_OFF_RATING  ...  TM_TOV_PCT  EFG_PCT  \\\n",
       "0               TOR   Toronto  240:00         109.0  ...        11.5    0.536   \n",
       "1               ORL   Orlando  240:00          96.8  ...        12.5    0.446   \n",
       "2               IND   Indiana  240:00         102.2  ...        13.0    0.511   \n",
       "3               HOU   Houston  240:00         100.8  ...        12.4    0.489   \n",
       "4               POR  Portland  240:00         122.8  ...         8.6    0.522   \n",
       "\n",
       "   TS_PCT  USG_PCT  E_USG_PCT  E_PACE   PACE  PACE_PER40  POSS    PIE  \n",
       "0   0.556      1.0      0.199  106.82  104.0       86.67   104  0.491  \n",
       "1   0.479      1.0      0.198   99.70   95.5       79.58    96  0.505  \n",
       "2   0.541      1.0      0.201  108.88  107.5       89.58   108  0.424  \n",
       "3   0.504      1.0      0.198  100.78   98.0       81.67    97  0.324  \n",
       "4   0.572      1.0      0.200   96.44   94.0       78.33    93  0.474  \n",
       "\n",
       "[5 rows x 32 columns]"
      ]
     },
     "execution_count": 18,
     "metadata": {},
     "output_type": "execute_result"
    }
   ],
   "source": [
    "df.toPandas().head(5)"
   ]
  },
  {
   "cell_type": "markdown",
   "metadata": {},
   "source": [
    "### Split Home and Away"
   ]
  },
  {
   "cell_type": "code",
   "execution_count": 19,
   "metadata": {},
   "outputs": [],
   "source": [
    "home_df = df.filter(df.MATCHUP.contains('.'))\n",
    "away_df = df.filter(df.MATCHUP.contains('@'))"
   ]
  },
  {
   "cell_type": "markdown",
   "metadata": {},
   "source": [
    "#### Create HomeWin column comprised of binary response: 1 for home team win, 0 for home team loss."
   ]
  },
  {
   "cell_type": "code",
   "execution_count": 20,
   "metadata": {},
   "outputs": [],
   "source": [
    "home_df = home_df.withColumn('HomeWin', f.when(f.col('WL') == 'W', 1).otherwise(0))"
   ]
  },
  {
   "cell_type": "code",
   "execution_count": 21,
   "metadata": {},
   "outputs": [
    {
     "data": {
      "text/html": [
       "<div>\n",
       "<style scoped>\n",
       "    .dataframe tbody tr th:only-of-type {\n",
       "        vertical-align: middle;\n",
       "    }\n",
       "\n",
       "    .dataframe tbody tr th {\n",
       "        vertical-align: top;\n",
       "    }\n",
       "\n",
       "    .dataframe thead th {\n",
       "        text-align: right;\n",
       "    }\n",
       "</style>\n",
       "<table border=\"1\" class=\"dataframe\">\n",
       "  <thead>\n",
       "    <tr style=\"text-align: right;\">\n",
       "      <th></th>\n",
       "      <th>WL</th>\n",
       "      <th>HomeWin</th>\n",
       "    </tr>\n",
       "  </thead>\n",
       "  <tbody>\n",
       "    <tr>\n",
       "      <th>0</th>\n",
       "      <td>W</td>\n",
       "      <td>1</td>\n",
       "    </tr>\n",
       "    <tr>\n",
       "      <th>1</th>\n",
       "      <td>L</td>\n",
       "      <td>0</td>\n",
       "    </tr>\n",
       "    <tr>\n",
       "      <th>2</th>\n",
       "      <td>W</td>\n",
       "      <td>1</td>\n",
       "    </tr>\n",
       "  </tbody>\n",
       "</table>\n",
       "</div>"
      ],
      "text/plain": [
       "  WL  HomeWin\n",
       "0  W        1\n",
       "1  L        0\n",
       "2  W        1"
      ]
     },
     "execution_count": 21,
     "metadata": {},
     "output_type": "execute_result"
    }
   ],
   "source": [
    "home_df.toPandas()[['WL', 'HomeWin']].head(3)"
   ]
  },
  {
   "cell_type": "markdown",
   "metadata": {},
   "source": [
    "#### Prepare columns for `home_` and `away_` prefixes."
   ]
  },
  {
   "cell_type": "code",
   "execution_count": 22,
   "metadata": {},
   "outputs": [],
   "source": [
    "away_drop = ['MATCHUP', 'WL', 'GAME_ID', 'TEAM_CITY', 'MIN', 'USG_PCT']\n",
    "home_drop = away_drop + ['HomeWin']"
   ]
  },
  {
   "cell_type": "code",
   "execution_count": 23,
   "metadata": {},
   "outputs": [],
   "source": [
    "away_prep = away_df.drop(*away_drop)\n",
    "home_prep = home_df.drop(*home_drop)"
   ]
  },
  {
   "cell_type": "code",
   "execution_count": 24,
   "metadata": {},
   "outputs": [],
   "source": [
    "away_col_names = [f\"away_{i}\" for i in away_prep.columns]\n",
    "home_col_names = [f\"home_{i}\" for i in home_prep.columns]"
   ]
  },
  {
   "cell_type": "code",
   "execution_count": 25,
   "metadata": {},
   "outputs": [],
   "source": [
    "away_prep_df = away_prep.toDF(*away_col_names)\n",
    "home_prep_df = home_prep.toDF(*home_col_names)"
   ]
  },
  {
   "cell_type": "markdown",
   "metadata": {},
   "source": [
    "#### Cannot concatenate horizonatlly in PySpark. So, we'll convert some DFs to pandas, concatenate, and convert back to Spark DF"
   ]
  },
  {
   "cell_type": "code",
   "execution_count": 26,
   "metadata": {},
   "outputs": [],
   "source": [
    "final_away = spark.createDataFrame(pd.concat([away_df.toPandas()['GAME_ID'], away_prep_df.toPandas()], axis=1))"
   ]
  },
  {
   "cell_type": "code",
   "execution_count": 27,
   "metadata": {},
   "outputs": [],
   "source": [
    "final_home = spark.createDataFrame(pd.concat([home_df.toPandas()[['GAME_ID', 'HomeWin']], home_prep_df.toPandas()], axis=1))"
   ]
  },
  {
   "cell_type": "code",
   "execution_count": 28,
   "metadata": {},
   "outputs": [],
   "source": [
    "# This join method avoids duplicating the 'GAME_ID' column.\n",
    "final_df = final_home.join(final_away, 'GAME_ID')"
   ]
  },
  {
   "cell_type": "code",
   "execution_count": 29,
   "metadata": {},
   "outputs": [
    {
     "name": "stdout",
     "output_type": "stream",
     "text": [
      "root\n",
      " |-- GAME_ID: string (nullable = true)\n",
      " |-- HomeWin: long (nullable = true)\n",
      " |-- home_PF: long (nullable = true)\n",
      " |-- home_TEAM_ID: long (nullable = true)\n",
      " |-- home_TEAM_NAME: string (nullable = true)\n",
      " |-- home_TEAM_ABBREVIATION: string (nullable = true)\n",
      " |-- home_E_OFF_RATING: double (nullable = true)\n",
      " |-- home_OFF_RATING: double (nullable = true)\n",
      " |-- home_E_DEF_RATING: double (nullable = true)\n",
      " |-- home_DEF_RATING: double (nullable = true)\n",
      " |-- home_E_NET_RATING: double (nullable = true)\n",
      " |-- home_NET_RATING: double (nullable = true)\n",
      " |-- home_AST_PCT: double (nullable = true)\n",
      " |-- home_AST_TOV: double (nullable = true)\n",
      " |-- home_AST_RATIO: double (nullable = true)\n",
      " |-- home_OREB_PCT: double (nullable = true)\n",
      " |-- home_DREB_PCT: double (nullable = true)\n",
      " |-- home_REB_PCT: double (nullable = true)\n",
      " |-- home_E_TM_TOV_PCT: double (nullable = true)\n",
      " |-- home_TM_TOV_PCT: double (nullable = true)\n",
      " |-- home_EFG_PCT: double (nullable = true)\n",
      " |-- home_TS_PCT: double (nullable = true)\n",
      " |-- home_E_USG_PCT: double (nullable = true)\n",
      " |-- home_E_PACE: double (nullable = true)\n",
      " |-- home_PACE: double (nullable = true)\n",
      " |-- home_PACE_PER40: double (nullable = true)\n",
      " |-- home_POSS: long (nullable = true)\n",
      " |-- home_PIE: double (nullable = true)\n",
      " |-- away_PF: long (nullable = true)\n",
      " |-- away_TEAM_ID: long (nullable = true)\n",
      " |-- away_TEAM_NAME: string (nullable = true)\n",
      " |-- away_TEAM_ABBREVIATION: string (nullable = true)\n",
      " |-- away_E_OFF_RATING: double (nullable = true)\n",
      " |-- away_OFF_RATING: double (nullable = true)\n",
      " |-- away_E_DEF_RATING: double (nullable = true)\n",
      " |-- away_DEF_RATING: double (nullable = true)\n",
      " |-- away_E_NET_RATING: double (nullable = true)\n",
      " |-- away_NET_RATING: double (nullable = true)\n",
      " |-- away_AST_PCT: double (nullable = true)\n",
      " |-- away_AST_TOV: double (nullable = true)\n",
      " |-- away_AST_RATIO: double (nullable = true)\n",
      " |-- away_OREB_PCT: double (nullable = true)\n",
      " |-- away_DREB_PCT: double (nullable = true)\n",
      " |-- away_REB_PCT: double (nullable = true)\n",
      " |-- away_E_TM_TOV_PCT: double (nullable = true)\n",
      " |-- away_TM_TOV_PCT: double (nullable = true)\n",
      " |-- away_EFG_PCT: double (nullable = true)\n",
      " |-- away_TS_PCT: double (nullable = true)\n",
      " |-- away_E_USG_PCT: double (nullable = true)\n",
      " |-- away_E_PACE: double (nullable = true)\n",
      " |-- away_PACE: double (nullable = true)\n",
      " |-- away_PACE_PER40: double (nullable = true)\n",
      " |-- away_POSS: long (nullable = true)\n",
      " |-- away_PIE: double (nullable = true)\n",
      "\n"
     ]
    }
   ],
   "source": [
    "final_df.printSchema()"
   ]
  },
  {
   "cell_type": "markdown",
   "metadata": {},
   "source": [
    "#### Remove unnecessary columns and columns that provide too much certainty."
   ]
  },
  {
   "cell_type": "code",
   "execution_count": 30,
   "metadata": {},
   "outputs": [],
   "source": [
    "no_e_cols = ['GAME_ID', 'home_TEAM_ID', 'home_TEAM_NAME', 'home_TEAM_ABBREVIATION', 'home_OFF_RATING', 'home_DEF_RATING', \n",
    "             'home_NET_RATING', 'away_TEAM_ID', 'away_TEAM_NAME', 'away_TEAM_ABBREVIATION', 'away_OFF_RATING', 'away_DEF_RATING', \n",
    "             'away_NET_RATING','home_E_OFF_RATING', 'home_E_DEF_RATING', 'home_E_NET_RATING', 'home_E_TOV_PCT', 'home_E_USG_PCT', \n",
    "             'home_E_PACE', 'home_E_TM_TOV_PCT', 'away_E_OFF_RATING', 'away_E_DEF_RATING', 'away_E_NET_RATING', 'away_E_TOV_PCT', \n",
    "             'away_E_USG_PCT', 'away_E_PACE', 'away_E_TM_TOV_PCT', 'home_EFG_PCT', 'away_EFG_PCT', 'home_PIE', 'away_PIE']"
   ]
  },
  {
   "cell_type": "code",
   "execution_count": 31,
   "metadata": {},
   "outputs": [],
   "source": [
    "no_e_cols = [i for i in final_df.columns if i not in no_e_cols]"
   ]
  },
  {
   "cell_type": "code",
   "execution_count": 32,
   "metadata": {},
   "outputs": [],
   "source": [
    "no_e_df = final_df[no_e_cols]"
   ]
  },
  {
   "cell_type": "code",
   "execution_count": 33,
   "metadata": {},
   "outputs": [
    {
     "data": {
      "image/png": "[encoded data removed]",
      "text/plain": [
       "<Figure size 1008x1008 with 2 Axes>"
      ]
     },
     "metadata": {
      "needs_background": "light"
     },
     "output_type": "display_data"
    }
   ],
   "source": [
    "plt.figure(figsize = (14,14))\n",
    "sns.heatmap(no_e_df.toPandas().corr())\n",
    "plt.show()"
   ]
  },
  {
   "cell_type": "code",
   "execution_count": 34,
   "metadata": {},
   "outputs": [
    {
     "name": "stdout",
     "output_type": "stream",
     "text": [
      "Correlation of HomeWin = 1.0\n",
      "Correlation of home_PF = -0.008284735439198762\n",
      "Correlation of home_AST_PCT = 0.04512517473790482\n",
      "Correlation of home_AST_TOV = 0.15493191902642559\n",
      "Correlation of home_AST_RATIO = 0.2908741385447218\n",
      "Correlation of home_OREB_PCT = 0.13985806971408493\n",
      "Correlation of home_DREB_PCT = 0.14934096292746155\n",
      "Correlation of home_REB_PCT = 0.43301543883520854\n",
      "Correlation of home_TM_TOV_PCT = -0.05905952204330835\n",
      "Correlation of home_TS_PCT = 0.5251072389555801\n",
      "Correlation of home_PACE = 0.016185270832408595\n",
      "Correlation of home_PACE_PER40 = 0.01617025568799348\n",
      "Correlation of home_POSS = 0.010319361211448828\n",
      "Correlation of away_PF = 0.053666713047682495\n",
      "Correlation of away_AST_PCT = -0.05971826802708149\n",
      "Correlation of away_AST_TOV = -0.1903854079505966\n",
      "Correlation of away_AST_RATIO = -0.3089610461479396\n",
      "Correlation of away_OREB_PCT = -0.14947385344000336\n",
      "Correlation of away_DREB_PCT = -0.13985276479550438\n",
      "Correlation of away_REB_PCT = -0.4330060994760807\n",
      "Correlation of away_TM_TOV_PCT = 0.038946538508922185\n",
      "Correlation of away_TS_PCT = -0.4811062918086309\n",
      "Correlation of away_PACE = 0.016185270832408595\n",
      "Correlation of away_PACE_PER40 = 0.01617025568799348\n",
      "Correlation of away_POSS = -0.008246459046394717\n"
     ]
    }
   ],
   "source": [
    "corr_df = no_e_df.toPandas().corr()\n",
    "j=0\n",
    "for i in corr_df.columns:\n",
    "    print(f\"Correlation of {i} = {corr_df.iloc[0][j]}\")\n",
    "    j+=1"
   ]
  },
  {
   "cell_type": "markdown",
   "metadata": {},
   "source": [
    "#### We'll drop some of these columns that have very extremely low correlations."
   ]
  },
  {
   "cell_type": "code",
   "execution_count": 35,
   "metadata": {},
   "outputs": [],
   "source": [
    "low_corr=[]\n",
    "for i in range(len(corr_df.columns)):\n",
    "    if abs(corr_df.iloc[0][i]) < .1:\n",
    "        low_corr.append(corr_df.columns[i])"
   ]
  },
  {
   "cell_type": "code",
   "execution_count": 36,
   "metadata": {},
   "outputs": [],
   "source": [
    "no_e_df = no_e_df.drop(*low_corr)"
   ]
  },
  {
   "cell_type": "markdown",
   "metadata": {},
   "source": [
    "### Prepare data with VectorAssembler"
   ]
  },
  {
   "cell_type": "code",
   "execution_count": 37,
   "metadata": {},
   "outputs": [],
   "source": [
    "from pyspark.ml.feature import VectorAssembler"
   ]
  },
  {
   "cell_type": "code",
   "execution_count": 38,
   "metadata": {},
   "outputs": [],
   "source": [
    "inputCols = no_e_df.toPandas().drop('HomeWin', axis=1).columns.tolist()"
   ]
  },
  {
   "cell_type": "code",
   "execution_count": 39,
   "metadata": {},
   "outputs": [],
   "source": [
    "va = VectorAssembler(inputCols = inputCols, outputCol = 'features')\n",
    "va_df = va.transform(no_e_df)\n",
    "va_df = va_df.select(['features', 'HomeWin'])"
   ]
  },
  {
   "cell_type": "markdown",
   "metadata": {},
   "source": [
    "### Standardize Data"
   ]
  },
  {
   "cell_type": "code",
   "execution_count": 40,
   "metadata": {},
   "outputs": [],
   "source": [
    "from pyspark.ml.feature import StandardScaler"
   ]
  },
  {
   "cell_type": "code",
   "execution_count": 41,
   "metadata": {},
   "outputs": [],
   "source": [
    "train_test_split = va_df.randomSplit([0.8, 0.2], seed=76)\n",
    "train_df = train_test_split[0]\n",
    "test_df = train_test_split[1]"
   ]
  },
  {
   "cell_type": "code",
   "execution_count": 42,
   "metadata": {},
   "outputs": [],
   "source": [
    "scaler = StandardScaler(inputCol='features', outputCol='scaledFeats')\n",
    "train_scaled = scaler.fit(train_df).transform(train_df)\n",
    "test_scaled = scaler.fit(train_df).transform(test_df)"
   ]
  },
  {
   "cell_type": "markdown",
   "metadata": {},
   "source": [
    "### Modeling"
   ]
  },
  {
   "cell_type": "code",
   "execution_count": 43,
   "metadata": {},
   "outputs": [],
   "source": [
    "from pyspark.ml.classification import LogisticRegression\n",
    "from pyspark.ml.evaluation import BinaryClassificationEvaluator"
   ]
  },
  {
   "cell_type": "code",
   "execution_count": 44,
   "metadata": {},
   "outputs": [],
   "source": [
    "lr = LogisticRegression(featuresCol='scaledFeats', labelCol='HomeWin', maxIter=10, regParam=0.3, elasticNetParam=0.8)\n",
    "lr_model = lr.fit(train_scaled)\n",
    "lr_predictions = lr_model.transform(test_scaled)"
   ]
  },
  {
   "cell_type": "code",
   "execution_count": 45,
   "metadata": {},
   "outputs": [
    {
     "data": {
      "text/plain": [
       "0.9066784175479826"
      ]
     },
     "execution_count": 45,
     "metadata": {},
     "output_type": "execute_result"
    }
   ],
   "source": [
    "lr_evaluator = BinaryClassificationEvaluator(labelCol='HomeWin')\n",
    "lr_evaluator.evaluate(lr_predictions)"
   ]
  },
  {
   "cell_type": "markdown",
   "metadata": {},
   "source": [
    "### Get a dataframe of last 5 games advanced stats"
   ]
  },
  {
   "cell_type": "code",
   "execution_count": 46,
   "metadata": {},
   "outputs": [],
   "source": [
    "# DF for competive window before playoff positioning locks\n",
    "# team_adv = leaguedashteamstats.LeagueDashTeamStats(measure_type_detailed_defense='Advanced',\n",
    "#                                                    date_from_nullable='05/06/2021', date_to_nullable='05/14/2021').get_data_frames()[0]"
   ]
  },
  {
   "cell_type": "code",
   "execution_count": 47,
   "metadata": {},
   "outputs": [],
   "source": [
    "# DF of last 5\n",
    "team_adv = leaguedashteamstats.LeagueDashTeamStats(last_n_games=5, measure_type_detailed_defense='Advanced').get_data_frames()[0]"
   ]
  },
  {
   "cell_type": "markdown",
   "metadata": {},
   "source": [
    "### Build some functoins to avoid a further mess of local variables than we already have"
   ]
  },
  {
   "cell_type": "code",
   "execution_count": 48,
   "metadata": {},
   "outputs": [],
   "source": [
    "def nickname_to_id(nickname=''):\n",
    "    return team_df[team_df['nickname'] == nickname].iloc[0][0]\n",
    "\n",
    "def gen_data(nickname=''):\n",
    "    return team_adv[team_adv['TEAM_ID'] == nickname_to_id(nickname)]\n",
    "\n",
    "def away_cols(nickname=''):\n",
    "    new_df = gen_data(nickname)\n",
    "    new_df = new_df.rename(columns={'AST_TO': 'AST_TOV'})\n",
    "    new_df = new_df.add_prefix('away_')\n",
    "    return new_df\n",
    "    \n",
    "def home_cols(nickname=''):\n",
    "    new_df = gen_data(nickname)\n",
    "    new_df = new_df.rename(columns={'AST_TO': 'AST_TOV'})\n",
    "    new_df = new_df.add_prefix('home_')\n",
    "    return new_df\n",
    "\n",
    "def matchup(home='', away=''):\n",
    "    home_team = home_cols(home)\n",
    "    away_team = away_cols(away)\n",
    "    home_data = [i for i in no_e_df.columns if i in home_cols(home).columns]\n",
    "    away_data = [i for i in no_e_df.columns if i in away_cols(away).columns]\n",
    "    final_home = home_team[home_data].reset_index(drop=True)\n",
    "    final_away = away_team[away_data].reset_index(drop=True)\n",
    "    final_line = pd.concat([final_home, final_away], axis=1)\n",
    "    return final_line\n",
    "\n",
    "def winner(home='', away=''):\n",
    "    match_df = matchup(home,away)\n",
    "    spark_match = spark.createDataFrame(match_df)\n",
    "    va = VectorAssembler(inputCols = spark_match.columns, outputCol = 'features')\n",
    "    va_df = va.transform(spark_match)\n",
    "    game = va_df.select('features')\n",
    "    return game"
   ]
  },
  {
   "cell_type": "markdown",
   "metadata": {},
   "source": [
    "#### Scale the data for the mathcup according to our training data"
   ]
  },
  {
   "cell_type": "markdown",
   "metadata": {},
   "source": [
    "## 05/16/21 - Predict Trail Blazers vs. Nuggets 9:00PM Tip-Off, 12:45PM Prediction\n",
    "* 1.0 indicates model predicts Home team win"
   ]
  },
  {
   "cell_type": "code",
   "execution_count": 53,
   "metadata": {},
   "outputs": [
    {
     "name": "stdout",
     "output_type": "stream",
     "text": [
      "+----------+\n",
      "|prediction|\n",
      "+----------+\n",
      "|       1.0|\n",
      "+----------+\n",
      "\n"
     ]
    }
   ],
   "source": [
    "lr_model.transform(scaler.fit(train_df).transform(winner('Trail Blazers', 'Nuggets'))).select('prediction').show()"
   ]
  },
  {
   "cell_type": "markdown",
   "metadata": {},
   "source": [
    "#### Model predicts Trail Blazers to win."
   ]
  },
  {
   "cell_type": "markdown",
   "metadata": {},
   "source": [
    "## 05/16/21 - Predict Timberwolves vs. Mavericks 9:00PM Tip-Off, 12:45PM Prediction"
   ]
  },
  {
   "cell_type": "code",
   "execution_count": 56,
   "metadata": {},
   "outputs": [
    {
     "name": "stdout",
     "output_type": "stream",
     "text": [
      "+----------+\n",
      "|prediction|\n",
      "+----------+\n",
      "|       1.0|\n",
      "+----------+\n",
      "\n"
     ]
    }
   ],
   "source": [
    "lr_model.transform(scaler.fit(train_df).transform(winner('Timberwolves', 'Mavericks'))).select('prediction').show()"
   ]
  },
  {
   "cell_type": "markdown",
   "metadata": {},
   "source": [
    "#### Model predicts Timberwolves to win."
   ]
  }
 ],
 "metadata": {
  "kernelspec": {
   "display_name": "Python 3",
   "language": "python",
   "name": "python3"
  },
  "language_info": {
   "codemirror_mode": {
    "name": "ipython",
    "version": 3
   },
   "file_extension": ".py",
   "mimetype": "text/x-python",
   "name": "python",
   "nbconvert_exporter": "python",
   "pygments_lexer": "ipython3",
   "version": "3.8.2"
  }
 },
 "nbformat": 4,
 "nbformat_minor": 4
}
